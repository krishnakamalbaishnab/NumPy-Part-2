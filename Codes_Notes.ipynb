{
 "cells": [
  {
   "cell_type": "markdown",
   "id": "fb3de7a8",
   "metadata": {},
   "source": [
    "# NumPy Data Types"
   ]
  },
  {
   "cell_type": "markdown",
   "id": "cc94b401",
   "metadata": {},
   "source": [
    "## Numpy 's main data type is ndarray- which means the the arry can have many dimension"
   ]
  },
  {
   "cell_type": "markdown",
   "id": "83a07ba6",
   "metadata": {},
   "source": [
    " # Declaring an array\n",
    " "
   ]
  },
  {
   "cell_type": "code",
   "execution_count": 1,
   "id": "65167bd2",
   "metadata": {},
   "outputs": [],
   "source": [
    "import numpy as np"
   ]
  },
  {
   "cell_type": "code",
   "execution_count": 2,
   "id": "33a6a4ec",
   "metadata": {},
   "outputs": [],
   "source": [
    "array1 = np.array([1,2,3]) #one dimensional array"
   ]
  },
  {
   "cell_type": "code",
   "execution_count": 3,
   "id": "3e5eb197",
   "metadata": {},
   "outputs": [
    {
     "data": {
      "text/plain": [
       "numpy.ndarray"
      ]
     },
     "execution_count": 3,
     "metadata": {},
     "output_type": "execute_result"
    }
   ],
   "source": [
    "type(array1)"
   ]
  },
  {
   "cell_type": "code",
   "execution_count": 4,
   "id": "5bad327c",
   "metadata": {},
   "outputs": [],
   "source": [
    "array2 = np.array([[1,2,3,4],\n",
    "                 [2,3,4,5]])"
   ]
  },
  {
   "cell_type": "code",
   "execution_count": 5,
   "id": "d961c544",
   "metadata": {},
   "outputs": [],
   "source": [
    "import pandas as pd"
   ]
  },
  {
   "cell_type": "code",
   "execution_count": 6,
   "id": "fbce9e9d",
   "metadata": {},
   "outputs": [],
   "source": [
    "dataFrame = pd.DataFrame(array2) #creating a dataframe from the array"
   ]
  },
  {
   "cell_type": "code",
   "execution_count": 7,
   "id": "eb419f6a",
   "metadata": {},
   "outputs": [
    {
     "data": {
      "text/html": [
       "<div>\n",
       "<style scoped>\n",
       "    .dataframe tbody tr th:only-of-type {\n",
       "        vertical-align: middle;\n",
       "    }\n",
       "\n",
       "    .dataframe tbody tr th {\n",
       "        vertical-align: top;\n",
       "    }\n",
       "\n",
       "    .dataframe thead th {\n",
       "        text-align: right;\n",
       "    }\n",
       "</style>\n",
       "<table border=\"1\" class=\"dataframe\">\n",
       "  <thead>\n",
       "    <tr style=\"text-align: right;\">\n",
       "      <th></th>\n",
       "      <th>0</th>\n",
       "      <th>1</th>\n",
       "      <th>2</th>\n",
       "      <th>3</th>\n",
       "    </tr>\n",
       "  </thead>\n",
       "  <tbody>\n",
       "    <tr>\n",
       "      <th>0</th>\n",
       "      <td>1</td>\n",
       "      <td>2</td>\n",
       "      <td>3</td>\n",
       "      <td>4</td>\n",
       "    </tr>\n",
       "    <tr>\n",
       "      <th>1</th>\n",
       "      <td>2</td>\n",
       "      <td>3</td>\n",
       "      <td>4</td>\n",
       "      <td>5</td>\n",
       "    </tr>\n",
       "  </tbody>\n",
       "</table>\n",
       "</div>"
      ],
      "text/plain": [
       "   0  1  2  3\n",
       "0  1  2  3  4\n",
       "1  2  3  4  5"
      ]
     },
     "execution_count": 7,
     "metadata": {},
     "output_type": "execute_result"
    }
   ],
   "source": [
    "dataFrame"
   ]
  },
  {
   "cell_type": "code",
   "execution_count": 8,
   "id": "52b5133e",
   "metadata": {},
   "outputs": [
    {
     "data": {
      "text/plain": [
       "pandas.core.frame.DataFrame"
      ]
     },
     "execution_count": 8,
     "metadata": {},
     "output_type": "execute_result"
    }
   ],
   "source": [
    "type(dataFrame)"
   ]
  },
  {
   "cell_type": "code",
   "execution_count": 9,
   "id": "c40883e1",
   "metadata": {},
   "outputs": [],
   "source": [
    "newColumnNamea = ['A','B','C','D'] #changing the dataframe column names to A B C D"
   ]
  },
  {
   "cell_type": "code",
   "execution_count": 10,
   "id": "42e5d9a7",
   "metadata": {},
   "outputs": [],
   "source": [
    "dataFrame.columns = newColumnNamea # assigning the columns name"
   ]
  },
  {
   "cell_type": "code",
   "execution_count": 11,
   "id": "bf556ca6",
   "metadata": {},
   "outputs": [
    {
     "data": {
      "text/html": [
       "<div>\n",
       "<style scoped>\n",
       "    .dataframe tbody tr th:only-of-type {\n",
       "        vertical-align: middle;\n",
       "    }\n",
       "\n",
       "    .dataframe tbody tr th {\n",
       "        vertical-align: top;\n",
       "    }\n",
       "\n",
       "    .dataframe thead th {\n",
       "        text-align: right;\n",
       "    }\n",
       "</style>\n",
       "<table border=\"1\" class=\"dataframe\">\n",
       "  <thead>\n",
       "    <tr style=\"text-align: right;\">\n",
       "      <th></th>\n",
       "      <th>A</th>\n",
       "      <th>B</th>\n",
       "      <th>C</th>\n",
       "      <th>D</th>\n",
       "    </tr>\n",
       "  </thead>\n",
       "  <tbody>\n",
       "    <tr>\n",
       "      <th>0</th>\n",
       "      <td>1</td>\n",
       "      <td>2</td>\n",
       "      <td>3</td>\n",
       "      <td>4</td>\n",
       "    </tr>\n",
       "    <tr>\n",
       "      <th>1</th>\n",
       "      <td>2</td>\n",
       "      <td>3</td>\n",
       "      <td>4</td>\n",
       "      <td>5</td>\n",
       "    </tr>\n",
       "  </tbody>\n",
       "</table>\n",
       "</div>"
      ],
      "text/plain": [
       "   A  B  C  D\n",
       "0  1  2  3  4\n",
       "1  2  3  4  5"
      ]
     },
     "execution_count": 11,
     "metadata": {},
     "output_type": "execute_result"
    }
   ],
   "source": [
    "dataFrame"
   ]
  },
  {
   "cell_type": "code",
   "execution_count": 12,
   "id": "d01c3c1f",
   "metadata": {},
   "outputs": [],
   "source": [
    "newRowsNames = ['X','Y']"
   ]
  },
  {
   "cell_type": "code",
   "execution_count": 13,
   "id": "808833c0",
   "metadata": {},
   "outputs": [],
   "source": [
    "dataFrame.index = newRowsNames #changing the rows name , but in numpy we don't have row attributes so we have to use the index attribute"
   ]
  },
  {
   "cell_type": "code",
   "execution_count": 14,
   "id": "7a37381b",
   "metadata": {},
   "outputs": [
    {
     "data": {
      "text/html": [
       "<div>\n",
       "<style scoped>\n",
       "    .dataframe tbody tr th:only-of-type {\n",
       "        vertical-align: middle;\n",
       "    }\n",
       "\n",
       "    .dataframe tbody tr th {\n",
       "        vertical-align: top;\n",
       "    }\n",
       "\n",
       "    .dataframe thead th {\n",
       "        text-align: right;\n",
       "    }\n",
       "</style>\n",
       "<table border=\"1\" class=\"dataframe\">\n",
       "  <thead>\n",
       "    <tr style=\"text-align: right;\">\n",
       "      <th></th>\n",
       "      <th>A</th>\n",
       "      <th>B</th>\n",
       "      <th>C</th>\n",
       "      <th>D</th>\n",
       "    </tr>\n",
       "  </thead>\n",
       "  <tbody>\n",
       "    <tr>\n",
       "      <th>X</th>\n",
       "      <td>1</td>\n",
       "      <td>2</td>\n",
       "      <td>3</td>\n",
       "      <td>4</td>\n",
       "    </tr>\n",
       "    <tr>\n",
       "      <th>Y</th>\n",
       "      <td>2</td>\n",
       "      <td>3</td>\n",
       "      <td>4</td>\n",
       "      <td>5</td>\n",
       "    </tr>\n",
       "  </tbody>\n",
       "</table>\n",
       "</div>"
      ],
      "text/plain": [
       "   A  B  C  D\n",
       "X  1  2  3  4\n",
       "Y  2  3  4  5"
      ]
     },
     "execution_count": 14,
     "metadata": {},
     "output_type": "execute_result"
    }
   ],
   "source": [
    "dataFrame"
   ]
  },
  {
   "cell_type": "code",
   "execution_count": 15,
   "id": "d2cefd5f",
   "metadata": {},
   "outputs": [],
   "source": [
    "#creating arrays automatically with numpy\n",
    "\n",
    "\n",
    "onesArray = np.ones((2,3))"
   ]
  },
  {
   "cell_type": "code",
   "execution_count": 16,
   "id": "88065922",
   "metadata": {},
   "outputs": [
    {
     "data": {
      "text/plain": [
       "array([[1., 1., 1.],\n",
       "       [1., 1., 1.]])"
      ]
     },
     "execution_count": 16,
     "metadata": {},
     "output_type": "execute_result"
    }
   ],
   "source": [
    "onesArray"
   ]
  },
  {
   "cell_type": "markdown",
   "id": "6bcb8feb",
   "metadata": {},
   "source": [
    "# Generating Random Numbers using NumPy"
   ]
  },
  {
   "cell_type": "code",
   "execution_count": 17,
   "id": "b57a87c0",
   "metadata": {},
   "outputs": [],
   "source": [
    "randomArray = np.random.randint(6, size=(5,5))"
   ]
  },
  {
   "cell_type": "code",
   "execution_count": 18,
   "id": "c8c81d18",
   "metadata": {},
   "outputs": [
    {
     "data": {
      "text/plain": [
       "array([[3, 1, 2, 2, 0],\n",
       "       [2, 0, 2, 1, 5],\n",
       "       [3, 3, 4, 4, 3],\n",
       "       [2, 2, 4, 5, 2],\n",
       "       [0, 1, 4, 1, 3]])"
      ]
     },
     "execution_count": 18,
     "metadata": {},
     "output_type": "execute_result"
    }
   ],
   "source": [
    "randomArray"
   ]
  },
  {
   "cell_type": "markdown",
   "id": "e996f7fa",
   "metadata": {},
   "source": [
    "## Suppose we need to share our notebook with someone else and we want to generate the same random numbers without changing anything in that case we can use  seed() function available on numpy\n"
   ]
  },
  {
   "cell_type": "code",
   "execution_count": 19,
   "id": "43bc6f36",
   "metadata": {},
   "outputs": [
    {
     "data": {
      "text/plain": [
       "array([[4, 0, 3, 3, 3],\n",
       "       [1, 3, 2, 4, 0],\n",
       "       [0, 4, 2, 1, 0],\n",
       "       [1, 1, 0, 1, 4]])"
      ]
     },
     "execution_count": 19,
     "metadata": {},
     "output_type": "execute_result"
    }
   ],
   "source": [
    "np.random.seed(seed = 0)\n",
    "randomArrayConstantNumbers = np.random.randint(5, size=(4,5))\n",
    "randomArrayConstantNumbers"
   ]
  },
  {
   "cell_type": "markdown",
   "id": "e0dee812",
   "metadata": {},
   "source": [
    "# Viewing Arrays and  matrices"
   ]
  },
  {
   "cell_type": "code",
   "execution_count": 20,
   "id": "55e9e759",
   "metadata": {},
   "outputs": [
    {
     "data": {
      "text/plain": [
       "array([[3, 1, 2, 2, 0],\n",
       "       [2, 0, 2, 1, 5],\n",
       "       [3, 3, 4, 4, 3],\n",
       "       [2, 2, 4, 5, 2],\n",
       "       [0, 1, 4, 1, 3]])"
      ]
     },
     "execution_count": 20,
     "metadata": {},
     "output_type": "execute_result"
    }
   ],
   "source": [
    "randomArray"
   ]
  },
  {
   "cell_type": "code",
   "execution_count": 21,
   "id": "4192804d",
   "metadata": {},
   "outputs": [
    {
     "data": {
      "text/plain": [
       "array([0, 1, 2, 3, 4, 5])"
      ]
     },
     "execution_count": 21,
     "metadata": {},
     "output_type": "execute_result"
    }
   ],
   "source": [
    "np.unique(randomArray)"
   ]
  },
  {
   "cell_type": "code",
   "execution_count": 22,
   "id": "951ff2bb",
   "metadata": {},
   "outputs": [
    {
     "data": {
      "text/plain": [
       "array([1, 2, 3])"
      ]
     },
     "execution_count": 22,
     "metadata": {},
     "output_type": "execute_result"
    }
   ],
   "source": [
    "array1"
   ]
  },
  {
   "cell_type": "code",
   "execution_count": 23,
   "id": "a74d2d95",
   "metadata": {},
   "outputs": [
    {
     "data": {
      "text/plain": [
       "array([[1, 2, 3, 4],\n",
       "       [2, 3, 4, 5]])"
      ]
     },
     "execution_count": 23,
     "metadata": {},
     "output_type": "execute_result"
    }
   ],
   "source": [
    "array2"
   ]
  },
  {
   "cell_type": "code",
   "execution_count": 25,
   "id": "69cfda1f",
   "metadata": {},
   "outputs": [],
   "source": [
    "array3 = np.array([[1,5,6,7,],\n",
    "                 [5,7,2,5],\n",
    "                 [5,5,26,8]])"
   ]
  },
  {
   "cell_type": "code",
   "execution_count": 26,
   "id": "207f0cb1",
   "metadata": {},
   "outputs": [
    {
     "data": {
      "text/plain": [
       "array([[ 1,  5,  6,  7],\n",
       "       [ 5,  7,  2,  5],\n",
       "       [ 5,  5, 26,  8]])"
      ]
     },
     "execution_count": 26,
     "metadata": {},
     "output_type": "execute_result"
    }
   ],
   "source": [
    "array3"
   ]
  },
  {
   "cell_type": "code",
   "execution_count": 27,
   "id": "7a5f7060",
   "metadata": {},
   "outputs": [
    {
     "data": {
      "text/plain": [
       "1"
      ]
     },
     "execution_count": 27,
     "metadata": {},
     "output_type": "execute_result"
    }
   ],
   "source": [
    "array1[0]"
   ]
  },
  {
   "cell_type": "code",
   "execution_count": 28,
   "id": "650ec3a2",
   "metadata": {},
   "outputs": [
    {
     "data": {
      "text/plain": [
       "(2, 4)"
      ]
     },
     "execution_count": 28,
     "metadata": {},
     "output_type": "execute_result"
    }
   ],
   "source": [
    "array2.shape\n"
   ]
  },
  {
   "cell_type": "code",
   "execution_count": 29,
   "id": "3ddd8e14",
   "metadata": {},
   "outputs": [
    {
     "data": {
      "text/plain": [
       "(3, 4)"
      ]
     },
     "execution_count": 29,
     "metadata": {},
     "output_type": "execute_result"
    }
   ],
   "source": [
    "array3.shape"
   ]
  },
  {
   "cell_type": "markdown",
   "id": "6e5d3230",
   "metadata": {},
   "source": [
    "# Manipulating and Comparing Arrays"
   ]
  },
  {
   "cell_type": "markdown",
   "id": "66a3e6de",
   "metadata": {},
   "source": [
    "## Arithmetic "
   ]
  },
  {
   "cell_type": "code",
   "execution_count": 30,
   "id": "2977b67e",
   "metadata": {},
   "outputs": [
    {
     "data": {
      "text/plain": [
       "array([1, 2, 3])"
      ]
     },
     "execution_count": 30,
     "metadata": {},
     "output_type": "execute_result"
    }
   ],
   "source": [
    "array1"
   ]
  },
  {
   "cell_type": "code",
   "execution_count": 31,
   "id": "f4a61bc3",
   "metadata": {},
   "outputs": [
    {
     "data": {
      "text/plain": [
       "array([[1, 2, 3, 4],\n",
       "       [2, 3, 4, 5]])"
      ]
     },
     "execution_count": 31,
     "metadata": {},
     "output_type": "execute_result"
    }
   ],
   "source": [
    "array2"
   ]
  },
  {
   "cell_type": "code",
   "execution_count": 32,
   "id": "bb9d6389",
   "metadata": {},
   "outputs": [
    {
     "data": {
      "text/plain": [
       "array([[ 1,  5,  6,  7],\n",
       "       [ 5,  7,  2,  5],\n",
       "       [ 5,  5, 26,  8]])"
      ]
     },
     "execution_count": 32,
     "metadata": {},
     "output_type": "execute_result"
    }
   ],
   "source": [
    "array3"
   ]
  },
  {
   "cell_type": "code",
   "execution_count": 33,
   "id": "0b0662f3",
   "metadata": {},
   "outputs": [],
   "source": [
    "array4 = np.ones(3)"
   ]
  },
  {
   "cell_type": "code",
   "execution_count": 34,
   "id": "f6266333",
   "metadata": {},
   "outputs": [
    {
     "data": {
      "text/plain": [
       "array([1., 1., 1.])"
      ]
     },
     "execution_count": 34,
     "metadata": {},
     "output_type": "execute_result"
    }
   ],
   "source": [
    "array4"
   ]
  },
  {
   "cell_type": "code",
   "execution_count": 35,
   "id": "8049b030",
   "metadata": {},
   "outputs": [],
   "source": [
    "sumOfTwo = array1 + array4"
   ]
  },
  {
   "cell_type": "code",
   "execution_count": 36,
   "id": "fa57468f",
   "metadata": {},
   "outputs": [
    {
     "data": {
      "text/plain": [
       "array([2., 3., 4.])"
      ]
     },
     "execution_count": 36,
     "metadata": {},
     "output_type": "execute_result"
    }
   ],
   "source": [
    "sumOfTwo"
   ]
  },
  {
   "cell_type": "code",
   "execution_count": 40,
   "id": "afdea644",
   "metadata": {},
   "outputs": [],
   "source": [
    "subsOfTwo = array1 - array4"
   ]
  },
  {
   "cell_type": "code",
   "execution_count": 41,
   "id": "8ce0aac2",
   "metadata": {},
   "outputs": [
    {
     "data": {
      "text/plain": [
       "array([0., 1., 2.])"
      ]
     },
     "execution_count": 41,
     "metadata": {},
     "output_type": "execute_result"
    }
   ],
   "source": [
    "subsOfTwo"
   ]
  },
  {
   "cell_type": "code",
   "execution_count": 42,
   "id": "04a5356c",
   "metadata": {},
   "outputs": [],
   "source": [
    "multiplicationOfTwo = array1 * array4"
   ]
  },
  {
   "cell_type": "code",
   "execution_count": 43,
   "id": "59cabca8",
   "metadata": {},
   "outputs": [
    {
     "data": {
      "text/plain": [
       "array([1., 2., 3.])"
      ]
     },
     "execution_count": 43,
     "metadata": {},
     "output_type": "execute_result"
    }
   ],
   "source": [
    "multiplicationOfTwo"
   ]
  },
  {
   "cell_type": "code",
   "execution_count": 45,
   "id": "09c8f049",
   "metadata": {},
   "outputs": [
    {
     "data": {
      "text/plain": [
       "array([[1, 2, 3, 4],\n",
       "       [2, 3, 4, 5]])"
      ]
     },
     "execution_count": 45,
     "metadata": {},
     "output_type": "execute_result"
    }
   ],
   "source": [
    "array2"
   ]
  },
  {
   "cell_type": "code",
   "execution_count": 46,
   "id": "fbeb415f",
   "metadata": {},
   "outputs": [
    {
     "ename": "ValueError",
     "evalue": "operands could not be broadcast together with shapes (3,) (2,4) ",
     "output_type": "error",
     "traceback": [
      "\u001b[0;31m---------------------------------------------------------------------------\u001b[0m",
      "\u001b[0;31mValueError\u001b[0m                                Traceback (most recent call last)",
      "\u001b[0;32m/var/folders/gb/gdcy7k7x4x773xs3bf8dk__80000gn/T/ipykernel_12275/2412274726.py\u001b[0m in \u001b[0;36m<module>\u001b[0;34m\u001b[0m\n\u001b[0;32m----> 1\u001b[0;31m \u001b[0mmultiplication2\u001b[0m \u001b[0;34m=\u001b[0m \u001b[0marray1\u001b[0m \u001b[0;34m*\u001b[0m \u001b[0marray2\u001b[0m\u001b[0;34m\u001b[0m\u001b[0;34m\u001b[0m\u001b[0m\n\u001b[0m",
      "\u001b[0;31mValueError\u001b[0m: operands could not be broadcast together with shapes (3,) (2,4) "
     ]
    }
   ],
   "source": [
    "multiplication2 = array1 * array2 #this will not work since the columns of two arrays / matrices does not match"
   ]
  },
  {
   "cell_type": "markdown",
   "id": "f18259fe",
   "metadata": {},
   "source": [
    "Broadcasting in Numpy describes how numpy treats arrays while performing arithmatic operations\n",
    "\n",
    "https://numpy.org/doc/stable/user/basics.broadcasting.html"
   ]
  },
  {
   "cell_type": "code",
   "execution_count": 47,
   "id": "415368b7",
   "metadata": {},
   "outputs": [],
   "source": [
    "array5 = np.array([[2,3,4],\n",
    "                  [4,5,6]])"
   ]
  },
  {
   "cell_type": "code",
   "execution_count": 48,
   "id": "15567684",
   "metadata": {},
   "outputs": [
    {
     "data": {
      "text/plain": [
       "array([[2, 3, 4],\n",
       "       [4, 5, 6]])"
      ]
     },
     "execution_count": 48,
     "metadata": {},
     "output_type": "execute_result"
    }
   ],
   "source": [
    "array5"
   ]
  },
  {
   "cell_type": "code",
   "execution_count": 49,
   "id": "e4dbbdb1",
   "metadata": {},
   "outputs": [],
   "source": [
    "multiplication3 = array1 * array5"
   ]
  },
  {
   "cell_type": "code",
   "execution_count": 50,
   "id": "051512b5",
   "metadata": {},
   "outputs": [
    {
     "data": {
      "text/plain": [
       "array([[ 2,  6, 12],\n",
       "       [ 4, 10, 18]])"
      ]
     },
     "execution_count": 50,
     "metadata": {},
     "output_type": "execute_result"
    }
   ],
   "source": [
    "multiplication3"
   ]
  },
  {
   "cell_type": "markdown",
   "id": "afba640e",
   "metadata": {},
   "source": [
    "# Division and Floor Division"
   ]
  },
  {
   "cell_type": "code",
   "execution_count": 51,
   "id": "a5e995a5",
   "metadata": {},
   "outputs": [],
   "source": [
    "# division\n",
    "\n",
    "division = array1/array4"
   ]
  },
  {
   "cell_type": "code",
   "execution_count": 52,
   "id": "e46cd97c",
   "metadata": {},
   "outputs": [
    {
     "data": {
      "text/plain": [
       "array([1., 2., 3.])"
      ]
     },
     "execution_count": 52,
     "metadata": {},
     "output_type": "execute_result"
    }
   ],
   "source": [
    "division"
   ]
  },
  {
   "cell_type": "code",
   "execution_count": 53,
   "id": "46ca4ef2",
   "metadata": {},
   "outputs": [],
   "source": [
    "#floor division\n",
    "\n",
    "floorDivison = array1 // array4 "
   ]
  },
  {
   "cell_type": "code",
   "execution_count": 54,
   "id": "aa2e312e",
   "metadata": {},
   "outputs": [
    {
     "data": {
      "text/plain": [
       "array([1., 2., 3.])"
      ]
     },
     "execution_count": 54,
     "metadata": {},
     "output_type": "execute_result"
    }
   ],
   "source": [
    "floorDivison #removes the decimal, it rounds up"
   ]
  },
  {
   "cell_type": "code",
   "execution_count": 55,
   "id": "d7aacce7",
   "metadata": {},
   "outputs": [],
   "source": [
    "x= 5\n",
    "y =2\n"
   ]
  },
  {
   "cell_type": "code",
   "execution_count": 59,
   "id": "4e4be7f4",
   "metadata": {},
   "outputs": [],
   "source": [
    "floorDiv1 = x/y"
   ]
  },
  {
   "cell_type": "code",
   "execution_count": 60,
   "id": "b0d10969",
   "metadata": {},
   "outputs": [
    {
     "data": {
      "text/plain": [
       "2.0"
      ]
     },
     "execution_count": 60,
     "metadata": {},
     "output_type": "execute_result"
    }
   ],
   "source": [
    "floorDiv1"
   ]
  },
  {
   "cell_type": "code",
   "execution_count": 61,
   "id": "3996e5c0",
   "metadata": {},
   "outputs": [],
   "source": [
    "# power\n",
    "\n",
    "powerOfArray = array1 *array4"
   ]
  },
  {
   "cell_type": "code",
   "execution_count": 62,
   "id": "67165f3e",
   "metadata": {},
   "outputs": [
    {
     "data": {
      "text/plain": [
       "array([1., 2., 3.])"
      ]
     },
     "execution_count": 62,
     "metadata": {},
     "output_type": "execute_result"
    }
   ],
   "source": [
    "powerOfArray"
   ]
  },
  {
   "cell_type": "markdown",
   "id": "3d14870f",
   "metadata": {},
   "source": [
    "Numpy has this arithmtic operations as functions \n",
    "\n",
    "Like for example\n",
    "\n",
    "the square of the arrays we can use as \n",
    "\n"
   ]
  },
  {
   "cell_type": "code",
   "execution_count": 63,
   "id": "2b02c653",
   "metadata": {},
   "outputs": [
    {
     "data": {
      "text/plain": [
       "array([1., 4., 9.])"
      ]
     },
     "execution_count": 63,
     "metadata": {},
     "output_type": "execute_result"
    }
   ],
   "source": [
    "np.square(array1 , array4) # this exactly does the same thing as {array1 * array4}"
   ]
  },
  {
   "cell_type": "markdown",
   "id": "cc9d9aa4",
   "metadata": {},
   "source": [
    "# Standard Deviation\n",
    "\n",
    "https://www.mathsisfun.com/data/standard-deviation.html"
   ]
  },
  {
   "cell_type": "markdown",
   "id": "03e52c67",
   "metadata": {},
   "source": [
    "# Aggregation\n"
   ]
  },
  {
   "cell_type": "markdown",
   "id": "6ab84d70",
   "metadata": {},
   "source": [
    "Performing the same operations on number of things"
   ]
  },
  {
   "cell_type": "markdown",
   "id": "2e5a7f40",
   "metadata": {},
   "source": [
    "numpy has their own function of doing things, it has functions like sum , square etc etc, "
   ]
  },
  {
   "cell_type": "markdown",
   "id": "23318f69",
   "metadata": {},
   "source": [
    "but where to use this is the factor "
   ]
  },
  {
   "cell_type": "markdown",
   "id": "12ebcb5d",
   "metadata": {},
   "source": [
    "Use Numpy function dealing with numpy arrays and use python functions for python datatypes"
   ]
  },
  {
   "cell_type": "code",
   "execution_count": 68,
   "id": "b88b0e22",
   "metadata": {},
   "outputs": [],
   "source": [
    " #creating an massive array\n",
    "    \n",
    "massiveArray = np.random.random(100000)"
   ]
  },
  {
   "cell_type": "code",
   "execution_count": 71,
   "id": "b5f5d6c2",
   "metadata": {},
   "outputs": [
    {
     "data": {
      "text/plain": [
       "array([0.0202184 , 0.83261985, 0.77815675, 0.87001215, 0.97861834,\n",
       "       0.79915856, 0.46147936, 0.78052918, 0.11827443, 0.63992102,\n",
       "       0.14335329, 0.94466892, 0.52184832, 0.41466194, 0.26455561,\n",
       "       0.77423369, 0.45615033, 0.56843395, 0.0187898 , 0.6176355 ,\n",
       "       0.61209572, 0.616934  , 0.94374808, 0.6818203 , 0.3595079 ,\n",
       "       0.43703195, 0.6976312 , 0.06022547, 0.66676672, 0.67063787,\n",
       "       0.21038256, 0.1289263 , 0.31542835, 0.36371077, 0.57019677,\n",
       "       0.43860151, 0.98837384, 0.10204481, 0.20887676, 0.16130952,\n",
       "       0.65310833, 0.2532916 , 0.46631077, 0.24442559, 0.15896958,\n",
       "       0.11037514, 0.65632959, 0.13818295, 0.19658236, 0.36872517,\n",
       "       0.82099323, 0.09710128, 0.83794491, 0.09609841, 0.97645947,\n",
       "       0.4686512 , 0.97676109, 0.60484552, 0.73926358, 0.03918779,\n",
       "       0.28280696, 0.12019656, 0.2961402 , 0.11872772, 0.31798318,\n",
       "       0.41426299, 0.0641475 , 0.69247212, 0.56660145, 0.26538949,\n",
       "       0.52324805, 0.09394051, 0.5759465 , 0.9292962 , 0.31856895,\n",
       "       0.66741038, 0.13179786, 0.7163272 , 0.28940609, 0.18319136,\n",
       "       0.58651293, 0.02010755, 0.82894003, 0.00469548, 0.67781654,\n",
       "       0.27000797, 0.73519402, 0.96218855, 0.24875314, 0.57615733,\n",
       "       0.59204193, 0.57225191, 0.22308163, 0.95274901, 0.44712538,\n",
       "       0.84640867, 0.69947928, 0.29743695, 0.81379782, 0.39650574])"
      ]
     },
     "execution_count": 71,
     "metadata": {},
     "output_type": "execute_result"
    }
   ],
   "source": [
    "massiveArray[:100]"
   ]
  },
  {
   "cell_type": "code",
   "execution_count": 72,
   "id": "de7eaaca",
   "metadata": {
    "scrolled": true
   },
   "outputs": [
    {
     "data": {
      "text/plain": [
       "array([0.0202184 , 0.83261985, 0.77815675, 0.87001215, 0.97861834,\n",
       "       0.79915856, 0.46147936, 0.78052918, 0.11827443, 0.63992102])"
      ]
     },
     "execution_count": 72,
     "metadata": {},
     "output_type": "execute_result"
    }
   ],
   "source": [
    "massiveArray[:10]"
   ]
  },
  {
   "cell_type": "markdown",
   "id": "830bd618",
   "metadata": {},
   "source": [
    "\n",
    "## The %timeit magic command is used in IPython environments (like Jupyter notebooks or IPython interactive shells) to measure the execution time of a Python statement or expression. It provides a convenient way to quickly assess the performance of code snippets."
   ]
  },
  {
   "cell_type": "code",
   "execution_count": 73,
   "id": "7afc06b3",
   "metadata": {},
   "outputs": [
    {
     "name": "stdout",
     "output_type": "stream",
     "text": [
      "6.41 ms ± 101 µs per loop (mean ± std. dev. of 7 runs, 100 loops each)\n",
      "20.5 µs ± 404 ns per loop (mean ± std. dev. of 7 runs, 10000 loops each)\n"
     ]
    }
   ],
   "source": [
    "%timeit sum(massiveArray) #python sum function\n",
    "%timeit np.sum(massiveArray) #numpy sum functions"
   ]
  },
  {
   "cell_type": "markdown",
   "id": "f3ee524f",
   "metadata": {},
   "source": [
    "numpy functions takes less time than the python default functions\n",
    "\n",
    "beacuse numpy is optimised to do more mathematical calulations on a faster rate"
   ]
  },
  {
   "cell_type": "code",
   "execution_count": 75,
   "id": "00cf389d",
   "metadata": {},
   "outputs": [],
   "source": [
    "meanOfArray = np.mean(array1)"
   ]
  },
  {
   "cell_type": "code",
   "execution_count": 76,
   "id": "4ce1565f",
   "metadata": {},
   "outputs": [
    {
     "data": {
      "text/plain": [
       "2.0"
      ]
     },
     "execution_count": 76,
     "metadata": {},
     "output_type": "execute_result"
    }
   ],
   "source": [
    "meanOfArray"
   ]
  },
  {
   "cell_type": "code",
   "execution_count": 79,
   "id": "4ade4981",
   "metadata": {},
   "outputs": [
    {
     "data": {
      "text/plain": [
       "array([[2, 3, 4],\n",
       "       [4, 5, 6]])"
      ]
     },
     "execution_count": 79,
     "metadata": {},
     "output_type": "execute_result"
    }
   ],
   "source": [
    "array5"
   ]
  },
  {
   "cell_type": "code",
   "execution_count": 77,
   "id": "13696e26",
   "metadata": {},
   "outputs": [],
   "source": [
    "meanOfArray5 = np.mean(array5)"
   ]
  },
  {
   "cell_type": "code",
   "execution_count": 78,
   "id": "b5061af8",
   "metadata": {},
   "outputs": [
    {
     "data": {
      "text/plain": [
       "4.0"
      ]
     },
     "execution_count": 78,
     "metadata": {},
     "output_type": "execute_result"
    }
   ],
   "source": [
    "meanOfArray5"
   ]
  },
  {
   "cell_type": "code",
   "execution_count": 81,
   "id": "ebc7c1d9",
   "metadata": {},
   "outputs": [
    {
     "data": {
      "text/plain": [
       "1.0"
      ]
     },
     "execution_count": 81,
     "metadata": {},
     "output_type": "execute_result"
    }
   ],
   "source": [
    "maxOfArray = np.max(array4)\n",
    "maxOfArray"
   ]
  },
  {
   "cell_type": "code",
   "execution_count": 83,
   "id": "e27a8609",
   "metadata": {},
   "outputs": [
    {
     "data": {
      "text/plain": [
       "2"
      ]
     },
     "execution_count": 83,
     "metadata": {},
     "output_type": "execute_result"
    }
   ],
   "source": [
    "minOfArray = np.min(array5)\n",
    "minOfArray"
   ]
  },
  {
   "cell_type": "code",
   "execution_count": 85,
   "id": "e6cd71ce",
   "metadata": {},
   "outputs": [
    {
     "data": {
      "text/plain": [
       "3.2998316455372216"
      ]
     },
     "execution_count": 85,
     "metadata": {},
     "output_type": "execute_result"
    }
   ],
   "source": [
    "standardDeviationOfArray = np.std(array4) #standard deviation\n",
    "standardDeviationOfArray"
   ]
  },
  {
   "cell_type": "code",
   "execution_count": 91,
   "id": "d3d934d3",
   "metadata": {},
   "outputs": [
    {
     "data": {
      "text/plain": [
       "3.2998316455372216"
      ]
     },
     "execution_count": 91,
     "metadata": {},
     "output_type": "execute_result"
    }
   ],
   "source": [
    "#standard deviaiton = squareroot of the variance\n",
    "\n",
    "basicFormulaOfStd = np.sqrt(np.var(array4))\n",
    "basicFormulaOfStd\n"
   ]
  },
  {
   "cell_type": "code",
   "execution_count": 89,
   "id": "357152c2",
   "metadata": {},
   "outputs": [
    {
     "data": {
      "text/plain": [
       "1.6666666666666667"
      ]
     },
     "execution_count": 89,
     "metadata": {},
     "output_type": "execute_result"
    }
   ],
   "source": [
    "varianceOfArray = np.var(array5) #variance\n",
    "varianceOfArray"
   ]
  },
  {
   "cell_type": "code",
   "execution_count": null,
   "id": "ce2430af",
   "metadata": {},
   "outputs": [],
   "source": []
  }
 ],
 "metadata": {
  "kernelspec": {
   "display_name": "Python 3 (ipykernel)",
   "language": "python",
   "name": "python3"
  },
  "language_info": {
   "codemirror_mode": {
    "name": "ipython",
    "version": 3
   },
   "file_extension": ".py",
   "mimetype": "text/x-python",
   "name": "python",
   "nbconvert_exporter": "python",
   "pygments_lexer": "ipython3",
   "version": "3.9.13"
  }
 },
 "nbformat": 4,
 "nbformat_minor": 5
}
