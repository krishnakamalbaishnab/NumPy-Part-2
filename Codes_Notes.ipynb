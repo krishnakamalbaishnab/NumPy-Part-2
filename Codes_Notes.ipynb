{
 "cells": [
  {
   "cell_type": "markdown",
   "id": "fb3de7a8",
   "metadata": {},
   "source": [
    "# NumPy Data Types"
   ]
  },
  {
   "cell_type": "markdown",
   "id": "cc94b401",
   "metadata": {},
   "source": [
    "## Numpy 's main data type is ndarray- which means the the arry can have many dimension"
   ]
  },
  {
   "cell_type": "markdown",
   "id": "83a07ba6",
   "metadata": {},
   "source": [
    " # Declaring an array\n",
    " "
   ]
  },
  {
   "cell_type": "code",
   "execution_count": 1,
   "id": "65167bd2",
   "metadata": {},
   "outputs": [],
   "source": [
    "import numpy as np"
   ]
  },
  {
   "cell_type": "code",
   "execution_count": 2,
   "id": "33a6a4ec",
   "metadata": {},
   "outputs": [],
   "source": [
    "array1 = np.array([1,2,3]) #one dimensional array"
   ]
  },
  {
   "cell_type": "code",
   "execution_count": 3,
   "id": "3e5eb197",
   "metadata": {},
   "outputs": [
    {
     "data": {
      "text/plain": [
       "numpy.ndarray"
      ]
     },
     "execution_count": 3,
     "metadata": {},
     "output_type": "execute_result"
    }
   ],
   "source": [
    "type(array1)"
   ]
  },
  {
   "cell_type": "code",
   "execution_count": 4,
   "id": "5bad327c",
   "metadata": {},
   "outputs": [],
   "source": [
    "array2 = np.array([[1,2,3,4],\n",
    "                 [2,3,4,5]])"
   ]
  },
  {
   "cell_type": "code",
   "execution_count": 5,
   "id": "d961c544",
   "metadata": {},
   "outputs": [],
   "source": [
    "import pandas as pd"
   ]
  },
  {
   "cell_type": "code",
   "execution_count": 6,
   "id": "fbce9e9d",
   "metadata": {},
   "outputs": [],
   "source": [
    "dataFrame = pd.DataFrame(array2) #creating a dataframe from the array"
   ]
  },
  {
   "cell_type": "code",
   "execution_count": 7,
   "id": "eb419f6a",
   "metadata": {},
   "outputs": [
    {
     "data": {
      "text/html": [
       "<div>\n",
       "<style scoped>\n",
       "    .dataframe tbody tr th:only-of-type {\n",
       "        vertical-align: middle;\n",
       "    }\n",
       "\n",
       "    .dataframe tbody tr th {\n",
       "        vertical-align: top;\n",
       "    }\n",
       "\n",
       "    .dataframe thead th {\n",
       "        text-align: right;\n",
       "    }\n",
       "</style>\n",
       "<table border=\"1\" class=\"dataframe\">\n",
       "  <thead>\n",
       "    <tr style=\"text-align: right;\">\n",
       "      <th></th>\n",
       "      <th>0</th>\n",
       "      <th>1</th>\n",
       "      <th>2</th>\n",
       "      <th>3</th>\n",
       "    </tr>\n",
       "  </thead>\n",
       "  <tbody>\n",
       "    <tr>\n",
       "      <th>0</th>\n",
       "      <td>1</td>\n",
       "      <td>2</td>\n",
       "      <td>3</td>\n",
       "      <td>4</td>\n",
       "    </tr>\n",
       "    <tr>\n",
       "      <th>1</th>\n",
       "      <td>2</td>\n",
       "      <td>3</td>\n",
       "      <td>4</td>\n",
       "      <td>5</td>\n",
       "    </tr>\n",
       "  </tbody>\n",
       "</table>\n",
       "</div>"
      ],
      "text/plain": [
       "   0  1  2  3\n",
       "0  1  2  3  4\n",
       "1  2  3  4  5"
      ]
     },
     "execution_count": 7,
     "metadata": {},
     "output_type": "execute_result"
    }
   ],
   "source": [
    "dataFrame"
   ]
  },
  {
   "cell_type": "code",
   "execution_count": 8,
   "id": "52b5133e",
   "metadata": {},
   "outputs": [
    {
     "data": {
      "text/plain": [
       "pandas.core.frame.DataFrame"
      ]
     },
     "execution_count": 8,
     "metadata": {},
     "output_type": "execute_result"
    }
   ],
   "source": [
    "type(dataFrame)"
   ]
  },
  {
   "cell_type": "code",
   "execution_count": 9,
   "id": "c40883e1",
   "metadata": {},
   "outputs": [],
   "source": [
    "newColumnNamea = ['A','B','C','D'] #changing the dataframe column names to A B C D"
   ]
  },
  {
   "cell_type": "code",
   "execution_count": 10,
   "id": "42e5d9a7",
   "metadata": {},
   "outputs": [],
   "source": [
    "dataFrame.columns = newColumnNamea # assigning the columns name"
   ]
  },
  {
   "cell_type": "code",
   "execution_count": 11,
   "id": "bf556ca6",
   "metadata": {},
   "outputs": [
    {
     "data": {
      "text/html": [
       "<div>\n",
       "<style scoped>\n",
       "    .dataframe tbody tr th:only-of-type {\n",
       "        vertical-align: middle;\n",
       "    }\n",
       "\n",
       "    .dataframe tbody tr th {\n",
       "        vertical-align: top;\n",
       "    }\n",
       "\n",
       "    .dataframe thead th {\n",
       "        text-align: right;\n",
       "    }\n",
       "</style>\n",
       "<table border=\"1\" class=\"dataframe\">\n",
       "  <thead>\n",
       "    <tr style=\"text-align: right;\">\n",
       "      <th></th>\n",
       "      <th>A</th>\n",
       "      <th>B</th>\n",
       "      <th>C</th>\n",
       "      <th>D</th>\n",
       "    </tr>\n",
       "  </thead>\n",
       "  <tbody>\n",
       "    <tr>\n",
       "      <th>0</th>\n",
       "      <td>1</td>\n",
       "      <td>2</td>\n",
       "      <td>3</td>\n",
       "      <td>4</td>\n",
       "    </tr>\n",
       "    <tr>\n",
       "      <th>1</th>\n",
       "      <td>2</td>\n",
       "      <td>3</td>\n",
       "      <td>4</td>\n",
       "      <td>5</td>\n",
       "    </tr>\n",
       "  </tbody>\n",
       "</table>\n",
       "</div>"
      ],
      "text/plain": [
       "   A  B  C  D\n",
       "0  1  2  3  4\n",
       "1  2  3  4  5"
      ]
     },
     "execution_count": 11,
     "metadata": {},
     "output_type": "execute_result"
    }
   ],
   "source": [
    "dataFrame"
   ]
  },
  {
   "cell_type": "code",
   "execution_count": 12,
   "id": "d01c3c1f",
   "metadata": {},
   "outputs": [],
   "source": [
    "newRowsNames = ['X','Y']"
   ]
  },
  {
   "cell_type": "code",
   "execution_count": 13,
   "id": "808833c0",
   "metadata": {},
   "outputs": [],
   "source": [
    "dataFrame.index = newRowsNames #changing the rows name , but in numpy we don't have row attributes so we have to use the index attribute"
   ]
  },
  {
   "cell_type": "code",
   "execution_count": 14,
   "id": "7a37381b",
   "metadata": {},
   "outputs": [
    {
     "data": {
      "text/html": [
       "<div>\n",
       "<style scoped>\n",
       "    .dataframe tbody tr th:only-of-type {\n",
       "        vertical-align: middle;\n",
       "    }\n",
       "\n",
       "    .dataframe tbody tr th {\n",
       "        vertical-align: top;\n",
       "    }\n",
       "\n",
       "    .dataframe thead th {\n",
       "        text-align: right;\n",
       "    }\n",
       "</style>\n",
       "<table border=\"1\" class=\"dataframe\">\n",
       "  <thead>\n",
       "    <tr style=\"text-align: right;\">\n",
       "      <th></th>\n",
       "      <th>A</th>\n",
       "      <th>B</th>\n",
       "      <th>C</th>\n",
       "      <th>D</th>\n",
       "    </tr>\n",
       "  </thead>\n",
       "  <tbody>\n",
       "    <tr>\n",
       "      <th>X</th>\n",
       "      <td>1</td>\n",
       "      <td>2</td>\n",
       "      <td>3</td>\n",
       "      <td>4</td>\n",
       "    </tr>\n",
       "    <tr>\n",
       "      <th>Y</th>\n",
       "      <td>2</td>\n",
       "      <td>3</td>\n",
       "      <td>4</td>\n",
       "      <td>5</td>\n",
       "    </tr>\n",
       "  </tbody>\n",
       "</table>\n",
       "</div>"
      ],
      "text/plain": [
       "   A  B  C  D\n",
       "X  1  2  3  4\n",
       "Y  2  3  4  5"
      ]
     },
     "execution_count": 14,
     "metadata": {},
     "output_type": "execute_result"
    }
   ],
   "source": [
    "dataFrame"
   ]
  },
  {
   "cell_type": "code",
   "execution_count": 15,
   "id": "d2cefd5f",
   "metadata": {},
   "outputs": [],
   "source": [
    "#creating arrays automatically with numpy\n",
    "\n",
    "\n",
    "onesArray = np.ones((2,3))"
   ]
  },
  {
   "cell_type": "code",
   "execution_count": 16,
   "id": "88065922",
   "metadata": {},
   "outputs": [
    {
     "data": {
      "text/plain": [
       "array([[1., 1., 1.],\n",
       "       [1., 1., 1.]])"
      ]
     },
     "execution_count": 16,
     "metadata": {},
     "output_type": "execute_result"
    }
   ],
   "source": [
    "onesArray"
   ]
  },
  {
   "cell_type": "markdown",
   "id": "6bcb8feb",
   "metadata": {},
   "source": [
    "# Generating Random Numbers using NumPy"
   ]
  },
  {
   "cell_type": "code",
   "execution_count": 17,
   "id": "b57a87c0",
   "metadata": {},
   "outputs": [],
   "source": [
    "randomArray = np.random.randint(6, size=(5,5))"
   ]
  },
  {
   "cell_type": "code",
   "execution_count": 18,
   "id": "c8c81d18",
   "metadata": {},
   "outputs": [
    {
     "data": {
      "text/plain": [
<<<<<<< HEAD
       "array([[5, 5, 1, 0, 3],\n",
       "       [0, 2, 5, 1, 2],\n",
       "       [1, 1, 2, 3, 5],\n",
       "       [4, 2, 5, 2, 0],\n",
       "       [1, 0, 3, 4, 1]])"
=======
       "array([[3, 1, 2, 2, 0],\n",
       "       [2, 0, 2, 1, 5],\n",
       "       [3, 3, 4, 4, 3],\n",
       "       [2, 2, 4, 5, 2],\n",
       "       [0, 1, 4, 1, 3]])"
>>>>>>> 84b3f39fca46bf2824eb987c56cd9836980d2ada
      ]
     },
     "execution_count": 18,
     "metadata": {},
     "output_type": "execute_result"
    }
   ],
   "source": [
    "randomArray"
   ]
  },
  {
   "cell_type": "markdown",
   "id": "e996f7fa",
   "metadata": {},
   "source": [
    "## Suppose we need to share our notebook with someone else and we want to generate the same random numbers without changing anything in that case we can use  seed() function available on numpy\n"
   ]
  },
  {
   "cell_type": "code",
   "execution_count": 19,
   "id": "43bc6f36",
   "metadata": {},
   "outputs": [
    {
     "data": {
      "text/plain": [
       "array([[4, 0, 3, 3, 3],\n",
       "       [1, 3, 2, 4, 0],\n",
       "       [0, 4, 2, 1, 0],\n",
       "       [1, 1, 0, 1, 4]])"
      ]
     },
     "execution_count": 19,
     "metadata": {},
     "output_type": "execute_result"
    }
   ],
   "source": [
    "np.random.seed(seed = 0)\n",
    "randomArrayConstantNumbers = np.random.randint(5, size=(4,5))\n",
    "randomArrayConstantNumbers"
   ]
  },
  {
   "cell_type": "markdown",
<<<<<<< HEAD
   "id": "69841769",
=======
   "id": "3f2681fa",
>>>>>>> 84b3f39fca46bf2824eb987c56cd9836980d2ada
   "metadata": {},
   "source": [
    "# Viewing Arrays and  matrices"
   ]
  },
  {
   "cell_type": "code",
   "execution_count": 20,
   "id": "55e9e759",
   "metadata": {},
   "outputs": [
    {
     "data": {
      "text/plain": [
<<<<<<< HEAD
       "array([[5, 5, 1, 0, 3],\n",
       "       [0, 2, 5, 1, 2],\n",
       "       [1, 1, 2, 3, 5],\n",
       "       [4, 2, 5, 2, 0],\n",
       "       [1, 0, 3, 4, 1]])"
=======
       "array([[3, 1, 2, 2, 0],\n",
       "       [2, 0, 2, 1, 5],\n",
       "       [3, 3, 4, 4, 3],\n",
       "       [2, 2, 4, 5, 2],\n",
       "       [0, 1, 4, 1, 3]])"
>>>>>>> 84b3f39fca46bf2824eb987c56cd9836980d2ada
      ]
     },
     "execution_count": 20,
     "metadata": {},
     "output_type": "execute_result"
    }
   ],
   "source": [
    "randomArray"
   ]
<<<<<<< HEAD
  },
  {
   "cell_type": "code",
   "execution_count": 21,
   "id": "4192804d",
   "metadata": {},
   "outputs": [
    {
     "data": {
      "text/plain": [
       "array([0, 1, 2, 3, 4, 5])"
      ]
     },
     "execution_count": 21,
     "metadata": {},
     "output_type": "execute_result"
    }
   ],
   "source": [
    "np.unique(randomArray)"
   ]
  },
  {
   "cell_type": "code",
   "execution_count": 22,
   "id": "951ff2bb",
   "metadata": {},
   "outputs": [
    {
     "data": {
      "text/plain": [
       "array([1, 2, 3])"
      ]
     },
     "execution_count": 22,
     "metadata": {},
     "output_type": "execute_result"
    }
   ],
   "source": [
    "array1"
   ]
  },
  {
   "cell_type": "code",
   "execution_count": 23,
   "id": "e8f3016d",
   "metadata": {},
   "outputs": [
    {
     "data": {
      "text/plain": [
       "array([[1, 2, 3, 4],\n",
       "       [2, 3, 4, 5]])"
      ]
     },
     "execution_count": 23,
     "metadata": {},
     "output_type": "execute_result"
    }
   ],
   "source": [
    "array2"
   ]
  },
  {
   "cell_type": "code",
   "execution_count": 24,
   "id": "51879cc6",
   "metadata": {},
   "outputs": [],
   "source": [
    "array3 = np.array([[1,5,6,7,],\n",
    "                 [5,7,2,5],\n",
    "                 [5,5,26,8]])"
   ]
  },
  {
   "cell_type": "code",
   "execution_count": 25,
   "id": "7cd894aa",
   "metadata": {},
   "outputs": [
    {
     "data": {
      "text/plain": [
       "array([[ 1,  5,  6,  7],\n",
       "       [ 5,  7,  2,  5],\n",
       "       [ 5,  5, 26,  8]])"
      ]
     },
     "execution_count": 25,
     "metadata": {},
     "output_type": "execute_result"
    }
   ],
   "source": [
    "array3"
   ]
  },
  {
   "cell_type": "code",
   "execution_count": 26,
   "id": "5330486e",
   "metadata": {},
   "outputs": [
    {
     "data": {
      "text/plain": [
       "1"
      ]
     },
     "execution_count": 26,
     "metadata": {},
     "output_type": "execute_result"
    }
   ],
   "source": [
    "array1[0]"
   ]
  },
  {
   "cell_type": "code",
   "execution_count": 27,
   "id": "12656982",
   "metadata": {},
   "outputs": [
    {
     "data": {
      "text/plain": [
       "(2, 4)"
      ]
     },
     "execution_count": 27,
     "metadata": {},
     "output_type": "execute_result"
    }
   ],
   "source": [
    "array2.shape\n"
   ]
  },
  {
   "cell_type": "code",
   "execution_count": 28,
   "id": "306becb6",
   "metadata": {},
   "outputs": [
    {
     "data": {
      "text/plain": [
       "(3, 4)"
      ]
     },
     "execution_count": 28,
     "metadata": {},
     "output_type": "execute_result"
    }
   ],
   "source": [
    "array3.shape"
   ]
  },
  {
   "cell_type": "markdown",
   "id": "70903add",
   "metadata": {},
   "source": [
    "# Manipulating and Comparing Arrays"
   ]
  },
  {
   "cell_type": "markdown",
   "id": "5dd623db",
   "metadata": {},
   "source": [
    "## Arithmetic "
   ]
  },
  {
   "cell_type": "code",
   "execution_count": 29,
   "id": "15785b82",
   "metadata": {},
   "outputs": [
    {
     "data": {
      "text/plain": [
       "array([1, 2, 3])"
      ]
     },
     "execution_count": 29,
     "metadata": {},
     "output_type": "execute_result"
    }
   ],
   "source": [
    "array1"
   ]
  },
  {
   "cell_type": "code",
   "execution_count": 30,
   "id": "b0fa7e11",
   "metadata": {},
   "outputs": [
    {
     "data": {
      "text/plain": [
       "array([[1, 2, 3, 4],\n",
       "       [2, 3, 4, 5]])"
      ]
     },
     "execution_count": 30,
     "metadata": {},
     "output_type": "execute_result"
    }
   ],
   "source": [
    "array2"
   ]
  },
  {
   "cell_type": "code",
   "execution_count": 31,
   "id": "31b7f004",
   "metadata": {},
   "outputs": [
    {
     "data": {
      "text/plain": [
       "array([[ 1,  5,  6,  7],\n",
       "       [ 5,  7,  2,  5],\n",
       "       [ 5,  5, 26,  8]])"
      ]
     },
     "execution_count": 31,
     "metadata": {},
     "output_type": "execute_result"
    }
   ],
   "source": [
    "array3"
   ]
  },
  {
   "cell_type": "code",
   "execution_count": 32,
   "id": "a311df1c",
   "metadata": {},
   "outputs": [],
   "source": [
    "array4 = np.ones(3)"
   ]
  },
  {
   "cell_type": "code",
   "execution_count": 33,
   "id": "897d811c",
   "metadata": {},
   "outputs": [
    {
     "data": {
      "text/plain": [
       "array([1., 1., 1.])"
      ]
     },
     "execution_count": 33,
     "metadata": {},
     "output_type": "execute_result"
    }
   ],
   "source": [
    "array4"
   ]
  },
  {
   "cell_type": "code",
   "execution_count": 34,
   "id": "9f784dff",
   "metadata": {},
   "outputs": [],
   "source": [
    "sumOfTwo = array1 + array4"
   ]
  },
  {
   "cell_type": "code",
   "execution_count": 35,
   "id": "0c5878f7",
   "metadata": {},
   "outputs": [
    {
     "data": {
      "text/plain": [
       "array([2., 3., 4.])"
      ]
     },
     "execution_count": 35,
     "metadata": {},
     "output_type": "execute_result"
    }
   ],
   "source": [
    "sumOfTwo"
   ]
  },
  {
   "cell_type": "code",
   "execution_count": 36,
   "id": "5259cef6",
   "metadata": {},
   "outputs": [],
   "source": [
    "subsOfTwo = array1 - array4"
   ]
  },
  {
   "cell_type": "code",
   "execution_count": 37,
   "id": "feb2874a",
   "metadata": {},
   "outputs": [
    {
     "data": {
      "text/plain": [
       "array([0., 1., 2.])"
      ]
     },
     "execution_count": 37,
     "metadata": {},
     "output_type": "execute_result"
    }
   ],
   "source": [
    "subsOfTwo"
   ]
  },
  {
   "cell_type": "code",
   "execution_count": 38,
   "id": "8ea11df3",
   "metadata": {},
   "outputs": [],
   "source": [
    "multiplicationOfTwo = array1 * array4"
   ]
  },
  {
   "cell_type": "code",
   "execution_count": 39,
   "id": "d4eee1dc",
   "metadata": {},
   "outputs": [
    {
     "data": {
      "text/plain": [
       "array([1., 2., 3.])"
      ]
     },
     "execution_count": 39,
     "metadata": {},
     "output_type": "execute_result"
    }
   ],
   "source": [
    "multiplicationOfTwo"
   ]
  },
  {
   "cell_type": "code",
   "execution_count": 40,
   "id": "224aecf0",
   "metadata": {},
   "outputs": [
    {
     "data": {
      "text/plain": [
       "array([[1, 2, 3, 4],\n",
       "       [2, 3, 4, 5]])"
      ]
     },
     "execution_count": 40,
     "metadata": {},
     "output_type": "execute_result"
    }
   ],
   "source": [
    "array2"
   ]
  },
  {
   "cell_type": "code",
   "execution_count": 41,
   "id": "d7003698",
   "metadata": {},
   "outputs": [
    {
     "ename": "ValueError",
     "evalue": "operands could not be broadcast together with shapes (3,) (2,4) ",
     "output_type": "error",
     "traceback": [
      "\u001b[1;31m---------------------------------------------------------------------------\u001b[0m",
      "\u001b[1;31mValueError\u001b[0m                                Traceback (most recent call last)",
      "Cell \u001b[1;32mIn[41], line 1\u001b[0m\n\u001b[1;32m----> 1\u001b[0m multiplication2 \u001b[38;5;241m=\u001b[39m array1 \u001b[38;5;241m*\u001b[39m array2\n",
      "\u001b[1;31mValueError\u001b[0m: operands could not be broadcast together with shapes (3,) (2,4) "
     ]
    }
   ],
   "source": [
    "multiplication2 = array1 * array2 #this will not work since the columns of two arrays / matrices does not match"
   ]
  },
  {
   "cell_type": "markdown",
   "id": "030b2fab",
   "metadata": {},
   "source": [
    "Broadcasting in Numpy describes how numpy treats arrays while performing arithmatic operations\n",
    "\n",
    "https://numpy.org/doc/stable/user/basics.broadcasting.html"
   ]
  },
  {
   "cell_type": "code",
   "execution_count": 42,
   "id": "2a5992c1",
   "metadata": {},
   "outputs": [],
   "source": [
    "array5 = np.array([[2,3,4],\n",
    "                  [4,5,6]])"
   ]
  },
  {
   "cell_type": "code",
   "execution_count": 43,
   "id": "88057c5b",
   "metadata": {},
   "outputs": [
    {
     "data": {
      "text/plain": [
       "array([[2, 3, 4],\n",
       "       [4, 5, 6]])"
      ]
     },
     "execution_count": 43,
     "metadata": {},
     "output_type": "execute_result"
    }
   ],
   "source": [
    "array5"
   ]
  },
  {
   "cell_type": "code",
   "execution_count": 44,
   "id": "82560e34",
   "metadata": {},
   "outputs": [],
   "source": [
    "multiplication3 = array1 * array5"
   ]
  },
  {
   "cell_type": "code",
   "execution_count": 45,
   "id": "c1ba4cab",
   "metadata": {},
   "outputs": [
    {
     "data": {
      "text/plain": [
       "array([[ 2,  6, 12],\n",
       "       [ 4, 10, 18]])"
      ]
     },
     "execution_count": 45,
     "metadata": {},
     "output_type": "execute_result"
    }
   ],
   "source": [
    "multiplication3"
   ]
  },
  {
   "cell_type": "markdown",
   "id": "e697f85b",
   "metadata": {},
   "source": [
    "# Division and Floor Division"
   ]
  },
  {
   "cell_type": "code",
   "execution_count": 46,
   "id": "27347f4d",
   "metadata": {},
   "outputs": [],
   "source": [
    "# division\n",
    "\n",
    "division = array1/array4"
   ]
  },
  {
   "cell_type": "code",
   "execution_count": 47,
   "id": "4403d6ec",
   "metadata": {},
   "outputs": [
    {
     "data": {
      "text/plain": [
       "array([1., 2., 3.])"
      ]
     },
     "execution_count": 47,
     "metadata": {},
     "output_type": "execute_result"
    }
   ],
   "source": [
    "division"
   ]
  },
  {
   "cell_type": "code",
   "execution_count": 48,
   "id": "ce072ec0",
   "metadata": {},
   "outputs": [],
   "source": [
    "#floor division\n",
    "\n",
    "floorDivison = array1 // array4 "
   ]
  },
  {
   "cell_type": "code",
   "execution_count": 49,
   "id": "8e65d2dd",
   "metadata": {},
   "outputs": [
    {
     "data": {
      "text/plain": [
       "array([1., 2., 3.])"
      ]
     },
     "execution_count": 49,
     "metadata": {},
     "output_type": "execute_result"
    }
   ],
   "source": [
    "floorDivison #removes the decimal, it rounds up"
   ]
  },
  {
   "cell_type": "code",
   "execution_count": 50,
   "id": "c96c8e36",
   "metadata": {},
   "outputs": [],
   "source": [
    "x= 5\n",
    "y =2\n"
   ]
  },
  {
   "cell_type": "code",
   "execution_count": 51,
   "id": "7360e8be",
   "metadata": {},
   "outputs": [],
   "source": [
    "floorDiv1 = x/y"
   ]
  },
  {
   "cell_type": "code",
   "execution_count": 52,
   "id": "5eb8edcb",
   "metadata": {},
   "outputs": [
    {
     "data": {
      "text/plain": [
       "2.5"
      ]
     },
     "execution_count": 52,
     "metadata": {},
     "output_type": "execute_result"
    }
   ],
   "source": [
    "floorDiv1"
   ]
  },
  {
   "cell_type": "code",
   "execution_count": 53,
   "id": "92d6489b",
   "metadata": {},
   "outputs": [],
   "source": [
    "# power\n",
    "\n",
    "powerOfArray = array1 *array4"
   ]
  },
  {
   "cell_type": "code",
   "execution_count": 54,
   "id": "b5db851a",
   "metadata": {},
   "outputs": [
    {
     "data": {
      "text/plain": [
       "array([1., 2., 3.])"
      ]
     },
     "execution_count": 54,
     "metadata": {},
     "output_type": "execute_result"
    }
   ],
   "source": [
    "powerOfArray"
   ]
  },
  {
   "cell_type": "markdown",
   "id": "689393d2",
   "metadata": {},
   "source": [
    "Numpy has this arithmtic operations as functions \n",
    "\n",
    "Like for example\n",
    "\n",
    "the square of the arrays we can use as \n",
    "\n"
   ]
  },
  {
   "cell_type": "code",
   "execution_count": 55,
   "id": "33a70318",
   "metadata": {},
   "outputs": [
    {
     "data": {
      "text/plain": [
       "array([1., 4., 9.])"
      ]
     },
     "execution_count": 55,
     "metadata": {},
     "output_type": "execute_result"
    }
   ],
   "source": [
    "np.square(array1 , array4) # this exactly does the same thing as {array1 * array4}"
   ]
  },
  {
   "cell_type": "markdown",
   "id": "a6cacecc",
   "metadata": {},
   "source": [
    "# Standard Deviation\n",
    "\n",
    "https://www.mathsisfun.com/data/standard-deviation.html"
   ]
  },
  {
   "cell_type": "markdown",
   "id": "6861300c",
   "metadata": {},
   "source": [
    "# Aggregation\n"
   ]
  },
  {
   "cell_type": "markdown",
   "id": "c64bc85d",
   "metadata": {},
   "source": [
    "Performing the same operations on number of things"
   ]
  },
  {
   "cell_type": "markdown",
   "id": "a3e00e24",
   "metadata": {},
   "source": [
    "numpy has their own function of doing things, it has functions like sum , square etc etc, "
   ]
  },
  {
   "cell_type": "markdown",
   "id": "1f0b05a1",
   "metadata": {},
   "source": [
    "but where to use this is the factor "
   ]
  },
  {
   "cell_type": "markdown",
   "id": "d82174ee",
   "metadata": {},
   "source": [
    "Use Numpy function dealing with numpy arrays and use python functions for python datatypes"
   ]
  },
  {
   "cell_type": "code",
   "execution_count": 56,
   "id": "3c57a94f",
   "metadata": {},
   "outputs": [],
   "source": [
    " #creating an massive array\n",
    "    \n",
    "massiveArray = np.random.random(100000)"
   ]
  },
  {
   "cell_type": "code",
   "execution_count": 57,
   "id": "67af3814",
   "metadata": {},
   "outputs": [
    {
     "data": {
      "text/plain": [
       "array([0.0202184 , 0.83261985, 0.77815675, 0.87001215, 0.97861834,\n",
       "       0.79915856, 0.46147936, 0.78052918, 0.11827443, 0.63992102,\n",
       "       0.14335329, 0.94466892, 0.52184832, 0.41466194, 0.26455561,\n",
       "       0.77423369, 0.45615033, 0.56843395, 0.0187898 , 0.6176355 ,\n",
       "       0.61209572, 0.616934  , 0.94374808, 0.6818203 , 0.3595079 ,\n",
       "       0.43703195, 0.6976312 , 0.06022547, 0.66676672, 0.67063787,\n",
       "       0.21038256, 0.1289263 , 0.31542835, 0.36371077, 0.57019677,\n",
       "       0.43860151, 0.98837384, 0.10204481, 0.20887676, 0.16130952,\n",
       "       0.65310833, 0.2532916 , 0.46631077, 0.24442559, 0.15896958,\n",
       "       0.11037514, 0.65632959, 0.13818295, 0.19658236, 0.36872517,\n",
       "       0.82099323, 0.09710128, 0.83794491, 0.09609841, 0.97645947,\n",
       "       0.4686512 , 0.97676109, 0.60484552, 0.73926358, 0.03918779,\n",
       "       0.28280696, 0.12019656, 0.2961402 , 0.11872772, 0.31798318,\n",
       "       0.41426299, 0.0641475 , 0.69247212, 0.56660145, 0.26538949,\n",
       "       0.52324805, 0.09394051, 0.5759465 , 0.9292962 , 0.31856895,\n",
       "       0.66741038, 0.13179786, 0.7163272 , 0.28940609, 0.18319136,\n",
       "       0.58651293, 0.02010755, 0.82894003, 0.00469548, 0.67781654,\n",
       "       0.27000797, 0.73519402, 0.96218855, 0.24875314, 0.57615733,\n",
       "       0.59204193, 0.57225191, 0.22308163, 0.95274901, 0.44712538,\n",
       "       0.84640867, 0.69947928, 0.29743695, 0.81379782, 0.39650574])"
      ]
     },
     "execution_count": 57,
     "metadata": {},
     "output_type": "execute_result"
    }
   ],
   "source": [
    "massiveArray[:100]"
   ]
  },
  {
   "cell_type": "code",
   "execution_count": 58,
   "id": "5d2618f5",
   "metadata": {
    "scrolled": true
   },
   "outputs": [
    {
     "data": {
      "text/plain": [
       "array([0.0202184 , 0.83261985, 0.77815675, 0.87001215, 0.97861834,\n",
       "       0.79915856, 0.46147936, 0.78052918, 0.11827443, 0.63992102])"
      ]
     },
     "execution_count": 58,
     "metadata": {},
     "output_type": "execute_result"
    }
   ],
   "source": [
    "massiveArray[:10]"
   ]
  },
  {
   "cell_type": "markdown",
   "id": "bb188b37",
   "metadata": {},
   "source": [
    "\n",
    "## The %timeit magic command is used in IPython environments (like Jupyter notebooks or IPython interactive shells) to measure the execution time of a Python statement or expression. It provides a convenient way to quickly assess the performance of code snippets."
   ]
  },
  {
   "cell_type": "code",
   "execution_count": 59,
   "id": "24252af7",
   "metadata": {},
   "outputs": [
    {
     "name": "stdout",
     "output_type": "stream",
     "text": [
      "9.7 ms ± 149 µs per loop (mean ± std. dev. of 7 runs, 100 loops each)\n",
      "34 µs ± 806 ns per loop (mean ± std. dev. of 7 runs, 10,000 loops each)\n"
     ]
    }
   ],
   "source": [
    "%timeit sum(massiveArray) #python sum function\n",
    "%timeit np.sum(massiveArray) #numpy sum functions"
   ]
  },
  {
   "cell_type": "markdown",
   "id": "aa3374ec",
   "metadata": {},
   "source": [
    "numpy functions takes less time than the python default functions\n",
    "\n",
    "beacuse numpy is optimised to do more mathematical calulations on a faster rate"
   ]
  },
  {
   "cell_type": "code",
   "execution_count": 60,
   "id": "f8f74d29",
   "metadata": {},
   "outputs": [],
   "source": [
    "meanOfArray = np.mean(array1)"
   ]
  },
  {
   "cell_type": "code",
   "execution_count": 61,
   "id": "bce92aee",
   "metadata": {},
   "outputs": [
    {
     "data": {
      "text/plain": [
       "2.0"
      ]
     },
     "execution_count": 61,
     "metadata": {},
     "output_type": "execute_result"
    }
   ],
   "source": [
    "meanOfArray"
   ]
  },
  {
   "cell_type": "code",
   "execution_count": 62,
   "id": "302ab871",
   "metadata": {},
   "outputs": [
    {
     "data": {
      "text/plain": [
       "array([[2, 3, 4],\n",
       "       [4, 5, 6]])"
      ]
     },
     "execution_count": 62,
     "metadata": {},
     "output_type": "execute_result"
    }
   ],
   "source": [
    "array5"
   ]
  },
  {
   "cell_type": "code",
   "execution_count": 63,
   "id": "081bc509",
   "metadata": {},
   "outputs": [],
   "source": [
    "meanOfArray5 = np.mean(array5)"
   ]
  },
  {
   "cell_type": "code",
   "execution_count": 64,
   "id": "a25f8964",
   "metadata": {},
   "outputs": [
    {
     "data": {
      "text/plain": [
       "4.0"
      ]
     },
     "execution_count": 64,
     "metadata": {},
     "output_type": "execute_result"
    }
   ],
   "source": [
    "meanOfArray5"
   ]
  },
  {
   "cell_type": "code",
   "execution_count": 65,
   "id": "b3bfd116",
   "metadata": {},
   "outputs": [
    {
     "data": {
      "text/plain": [
       "9.0"
      ]
     },
     "execution_count": 65,
     "metadata": {},
     "output_type": "execute_result"
    }
   ],
   "source": [
    "maxOfArray = np.max(array4)\n",
    "maxOfArray"
   ]
  },
  {
   "cell_type": "code",
   "execution_count": 66,
   "id": "6772e92e",
   "metadata": {},
   "outputs": [
    {
     "data": {
      "text/plain": [
       "2"
      ]
     },
     "execution_count": 66,
     "metadata": {},
     "output_type": "execute_result"
    }
   ],
   "source": [
    "minOfArray = np.min(array5)\n",
    "minOfArray"
   ]
  },
  {
   "cell_type": "code",
   "execution_count": 67,
   "id": "e48ec000",
   "metadata": {},
   "outputs": [
    {
     "data": {
      "text/plain": [
       "3.2998316455372216"
      ]
     },
     "execution_count": 67,
     "metadata": {},
     "output_type": "execute_result"
    }
   ],
   "source": [
    "standardDeviationOfArray = np.std(array4) #standard deviation\n",
    "standardDeviationOfArray"
   ]
  },
  {
   "cell_type": "code",
   "execution_count": 68,
   "id": "a0f38c60",
   "metadata": {},
   "outputs": [
    {
     "data": {
      "text/plain": [
       "3.2998316455372216"
      ]
     },
     "execution_count": 68,
     "metadata": {},
     "output_type": "execute_result"
    }
   ],
   "source": [
    "#standard deviaiton = squareroot of the variance\n",
    "\n",
    "basicFormulaOfStd = np.sqrt(np.var(array4))\n",
    "basicFormulaOfStd\n"
   ]
  },
  {
   "cell_type": "code",
   "execution_count": 69,
   "id": "29d3c0e2",
   "metadata": {},
   "outputs": [
    {
     "data": {
      "text/plain": [
       "1.6666666666666667"
      ]
     },
     "execution_count": 69,
     "metadata": {},
     "output_type": "execute_result"
    }
   ],
   "source": [
    "varianceOfArray = np.var(array5) #variance\n",
    "varianceOfArray"
   ]
  },
  {
   "cell_type": "code",
   "execution_count": 70,
   "id": "4b29fa08",
   "metadata": {},
   "outputs": [],
   "source": [
    "highVarValue = np.array([100,200,400,1000,2000,6000])\n",
    "lowVarValue = np.array([10,20,40,60,70])"
   ]
  },
  {
   "cell_type": "code",
   "execution_count": 71,
   "id": "6d9743dc",
   "metadata": {},
   "outputs": [
    {
     "data": {
      "text/plain": [
       "4254722.222222222"
      ]
     },
     "execution_count": 71,
     "metadata": {},
     "output_type": "execute_result"
    }
   ],
   "source": [
    "np.var(highVarValue)"
   ]
  },
  {
   "cell_type": "code",
   "execution_count": 72,
   "id": "87c6f303",
   "metadata": {},
   "outputs": [
    {
     "data": {
      "text/plain": [
       "520.0"
      ]
     },
     "execution_count": 72,
     "metadata": {},
     "output_type": "execute_result"
    }
   ],
   "source": [
    "np.var(lowVarValue)"
   ]
  },
  {
   "cell_type": "code",
   "execution_count": 74,
   "id": "0e07d61f",
   "metadata": {},
   "outputs": [
    {
     "data": {
      "text/plain": [
       "2062.6978019628136"
      ]
     },
     "execution_count": 74,
     "metadata": {},
     "output_type": "execute_result"
    }
   ],
   "source": [
    "np.std(highVarValue)\n"
   ]
  },
  {
   "cell_type": "code",
   "execution_count": 75,
   "id": "ee3d58c7",
   "metadata": {},
   "outputs": [
    {
     "data": {
      "text/plain": [
       "22.80350850198276"
      ]
     },
     "execution_count": 75,
     "metadata": {},
     "output_type": "execute_result"
    }
   ],
   "source": [
    "np.std(lowVarValue)\n"
   ]
  },
  {
   "cell_type": "code",
   "execution_count": 76,
   "id": "ad464571",
   "metadata": {},
   "outputs": [],
   "source": [
    "import matplotlib.pyplot as plt\n",
    "%matplotlib inline\n"
   ]
  },
  {
   "cell_type": "code",
   "execution_count": 77,
   "id": "801eb692",
   "metadata": {},
   "outputs": [
    {
     "data": {
      "image/png": "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",
      "text/plain": [
       "<Figure size 640x480 with 1 Axes>"
      ]
     },
     "metadata": {},
     "output_type": "display_data"
    }
   ],
   "source": [
    "plt.hist(highVarValue)\n",
    "plt.show()"
   ]
  },
  {
   "cell_type": "code",
   "execution_count": 78,
   "id": "f097f915",
   "metadata": {
    "scrolled": true
   },
   "outputs": [
    {
     "data": {
      "image/png": "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",
      "text/plain": [
       "<Figure size 640x480 with 1 Axes>"
      ]
     },
     "metadata": {},
     "output_type": "display_data"
    }
   ],
   "source": [
    "plt.hist(lowVarValue)\n",
    "plt.show()"
   ]
  },
  {
   "cell_type": "markdown",
   "id": "de3f56f5",
   "metadata": {},
   "source": [
    "# Reshaping an array"
   ]
  },
  {
   "cell_type": "code",
   "execution_count": 79,
   "id": "8fe79de1",
   "metadata": {},
   "outputs": [],
   "source": [
    "array7 = np.array([[1,2,3,],[2,4,5],[5,6,7]])"
   ]
  },
  {
   "cell_type": "code",
   "execution_count": 80,
   "id": "510564d5",
   "metadata": {},
   "outputs": [
    {
     "data": {
      "text/plain": [
       "array([[1, 2, 3],\n",
       "       [2, 4, 5],\n",
       "       [5, 6, 7]])"
      ]
     },
     "execution_count": 80,
     "metadata": {},
     "output_type": "execute_result"
    }
   ],
   "source": [
    "array7"
   ]
  },
  {
   "cell_type": "code",
   "execution_count": 81,
   "id": "6ef90eea",
   "metadata": {},
   "outputs": [
    {
     "data": {
      "text/plain": [
       "(3, 3)"
      ]
     },
     "execution_count": 81,
     "metadata": {},
     "output_type": "execute_result"
    }
   ],
   "source": [
    "array7.shape"
   ]
  },
  {
   "cell_type": "code",
   "execution_count": 82,
   "id": "0b05ef0d",
   "metadata": {},
   "outputs": [],
   "source": [
    "array8 = array7.reshape(3,3,1)"
   ]
  },
  {
   "cell_type": "code",
   "execution_count": 83,
   "id": "e4424e29",
   "metadata": {},
   "outputs": [
    {
     "data": {
      "text/plain": [
       "array([[[1],\n",
       "        [2],\n",
       "        [3]],\n",
       "\n",
       "       [[2],\n",
       "        [4],\n",
       "        [5]],\n",
       "\n",
       "       [[5],\n",
       "        [6],\n",
       "        [7]]])"
      ]
     },
     "execution_count": 83,
     "metadata": {},
     "output_type": "execute_result"
    }
   ],
   "source": [
    "array8"
   ]
  },
  {
   "cell_type": "markdown",
   "id": "715ac123",
   "metadata": {},
   "source": [
    "# Transpose of a matrix"
   ]
  },
  {
   "cell_type": "code",
   "execution_count": 84,
   "id": "a224aa34",
   "metadata": {},
   "outputs": [
    {
     "data": {
      "text/plain": [
       "array([[1, 2, 5],\n",
       "       [2, 4, 6],\n",
       "       [3, 5, 7]])"
      ]
     },
     "execution_count": 84,
     "metadata": {},
     "output_type": "execute_result"
    }
   ],
   "source": [
    "array7.T #changes rows into column and coulmn into rows // switches the axises"
   ]
  },
  {
   "cell_type": "markdown",
   "id": "6f302d02",
   "metadata": {},
   "source": [
    "Check this example,\n",
    "we will declare one array of (2,3) shape"
   ]
  },
  {
   "cell_type": "code",
   "execution_count": 85,
   "id": "aa86a65d",
   "metadata": {},
   "outputs": [],
   "source": [
    "arrayForTranspose = np.array([[1,2,4],[2,3,4]])"
   ]
  },
  {
   "cell_type": "code",
   "execution_count": 86,
   "id": "4b3943ac",
   "metadata": {},
   "outputs": [
    {
     "data": {
      "text/plain": [
       "array([[1, 2, 4],\n",
       "       [2, 3, 4]])"
      ]
     },
     "execution_count": 86,
     "metadata": {},
     "output_type": "execute_result"
    }
   ],
   "source": [
    "arrayForTranspose"
   ]
  },
  {
   "cell_type": "markdown",
   "id": "cd27a5c8",
   "metadata": {},
   "source": [
    "Now look at the below matrix after trasnposing"
   ]
  },
  {
   "cell_type": "code",
   "execution_count": 87,
   "id": "71eb950a",
   "metadata": {},
   "outputs": [],
   "source": [
    "arrayAfterTranspose = arrayForTranspose.T"
   ]
  },
  {
   "cell_type": "code",
   "execution_count": 88,
   "id": "690610c2",
   "metadata": {},
   "outputs": [
    {
     "data": {
      "text/plain": [
       "array([[1, 2],\n",
       "       [2, 3],\n",
       "       [4, 4]])"
      ]
     },
     "execution_count": 88,
     "metadata": {},
     "output_type": "execute_result"
    }
   ],
   "source": [
    "arrayAfterTranspose"
   ]
  },
  {
   "cell_type": "markdown",
   "id": "377729b3",
   "metadata": {},
   "source": [
    "# DOT Product of Matrix"
   ]
  },
  {
   "cell_type": "code",
   "execution_count": 89,
   "id": "c84c6603",
   "metadata": {},
   "outputs": [],
   "source": [
    "#lets create two new matrixes using random function of numpy\n",
    "np.random.seed(0)\n",
    "matrix1 = np.random.randint(5, size=(3,5))\n",
    "matrix2 = np.random.randint(5, size=(3,5))"
   ]
  },
  {
   "cell_type": "code",
   "execution_count": 90,
   "id": "b1482df3",
   "metadata": {},
   "outputs": [
    {
     "data": {
      "text/plain": [
       "array([[4, 0, 3, 3, 3],\n",
       "       [1, 3, 2, 4, 0],\n",
       "       [0, 4, 2, 1, 0]])"
      ]
     },
     "execution_count": 90,
     "metadata": {},
     "output_type": "execute_result"
    }
   ],
   "source": [
    "matrix1"
   ]
  },
  {
   "cell_type": "code",
   "execution_count": 91,
   "id": "469033ca",
   "metadata": {},
   "outputs": [
    {
     "data": {
      "text/plain": [
       "array([[1, 1, 0, 1, 4],\n",
       "       [3, 0, 3, 0, 2],\n",
       "       [3, 0, 1, 3, 3]])"
      ]
     },
     "execution_count": 91,
     "metadata": {},
     "output_type": "execute_result"
    }
   ],
   "source": [
    "\n",
    "matrix2"
   ]
  },
  {
   "cell_type": "code",
   "execution_count": 92,
   "id": "9b6ed6a1",
   "metadata": {},
   "outputs": [],
   "source": [
    "#element wise multiplication (Hadamard product numpy)) \n",
    "multiplicatonOfMat1andMat2 = matrix1 * matrix2"
   ]
  },
  {
   "cell_type": "code",
   "execution_count": 93,
   "id": "30e6ee3b",
   "metadata": {},
   "outputs": [
    {
     "data": {
      "text/plain": [
       "array([[ 4,  0,  0,  3, 12],\n",
       "       [ 3,  0,  6,  0,  0],\n",
       "       [ 0,  0,  2,  3,  0]])"
      ]
     },
     "execution_count": 93,
     "metadata": {},
     "output_type": "execute_result"
    }
   ],
   "source": [
    " multiplicatonOfMat1andMat2"
   ]
  },
  {
   "cell_type": "code",
   "execution_count": 94,
   "id": "6aef6174",
   "metadata": {},
   "outputs": [
    {
     "ename": "ValueError",
     "evalue": "shapes (3,5) and (3,5) not aligned: 5 (dim 1) != 3 (dim 0)",
     "output_type": "error",
     "traceback": [
      "\u001b[1;31m---------------------------------------------------------------------------\u001b[0m",
      "\u001b[1;31mValueError\u001b[0m                                Traceback (most recent call last)",
      "Cell \u001b[1;32mIn[94], line 3\u001b[0m\n\u001b[0;32m      1\u001b[0m \u001b[38;5;66;03m#dot product of the matrices\u001b[39;00m\n\u001b[1;32m----> 3\u001b[0m dotProduct \u001b[38;5;241m=\u001b[39m np\u001b[38;5;241m.\u001b[39mdot(matrix1, matrix2)\n",
      "File \u001b[1;32m<__array_function__ internals>:200\u001b[0m, in \u001b[0;36mdot\u001b[1;34m(*args, **kwargs)\u001b[0m\n",
      "\u001b[1;31mValueError\u001b[0m: shapes (3,5) and (3,5) not aligned: 5 (dim 1) != 3 (dim 0)"
     ]
    }
   ],
   "source": [
    "#dot product of the matrices\n",
    "\n",
    "dotProduct = np.dot(matrix1, matrix2)"
   ]
  },
  {
   "cell_type": "code",
   "execution_count": 96,
   "id": "483ec891",
   "metadata": {},
   "outputs": [],
   "source": [
    "#we need to transpose the matrix to do the dot product, we can not apply dot product to the same dimensional array\n",
    "\n",
    "#let's have a look\n",
    "\n",
    "transposeMat1 = matrix1.T"
   ]
  },
  {
   "cell_type": "code",
   "execution_count": 102,
   "id": "8bc44344",
   "metadata": {},
   "outputs": [
    {
     "data": {
      "text/plain": [
       "array([[4, 1, 0],\n",
       "       [0, 3, 4],\n",
       "       [3, 2, 2],\n",
       "       [3, 4, 1],\n",
       "       [3, 0, 0]])"
      ]
     },
     "execution_count": 102,
     "metadata": {},
     "output_type": "execute_result"
    }
   ],
   "source": [
    "transposeMat1\n"
   ]
  },
  {
   "cell_type": "code",
   "execution_count": 101,
   "id": "66e3ad71",
   "metadata": {},
   "outputs": [
    {
     "data": {
      "text/plain": [
       "(5, 3)"
      ]
     },
     "execution_count": 101,
     "metadata": {},
     "output_type": "execute_result"
    }
   ],
   "source": [
    "transposeMat1.shape"
   ]
  },
  {
   "cell_type": "code",
   "execution_count": 106,
   "id": "1984b21e",
   "metadata": {},
   "outputs": [],
   "source": [
    "dotProduct = np.dot(matrix1, transposeMat1)  #no we can perfom the dot product"
   ]
  },
  {
   "cell_type": "code",
   "execution_count": 105,
   "id": "13b64f2f",
   "metadata": {},
   "outputs": [
    {
     "data": {
      "text/plain": [
       "array([[43, 22,  9],\n",
       "       [22, 30, 20],\n",
       "       [ 9, 20, 21]])"
      ]
     },
     "execution_count": 105,
     "metadata": {},
     "output_type": "execute_result"
    }
   ],
   "source": [
    "dotProduct"
   ]
  },
  {
   "cell_type": "markdown",
   "id": "25813edd",
   "metadata": {},
   "source": [
    "# DOT Product Example Nut Butter sales"
   ]
  },
  {
   "cell_type": "code",
   "execution_count": 107,
   "id": "c3de6115",
   "metadata": {},
   "outputs": [
    {
     "data": {
      "text/plain": [
       "array([[12, 15,  0],\n",
       "       [ 3,  3,  7],\n",
       "       [ 9, 19, 18],\n",
       "       [ 4,  6, 12],\n",
       "       [ 1,  6,  7]])"
      ]
     },
     "execution_count": 107,
     "metadata": {},
     "output_type": "execute_result"
    }
   ],
   "source": [
    "np.random.seed(0)\n",
    "sales_amounts = np.random.randint(20, size=(5, 3))\n",
    "sales_amounts"
   ]
  },
  {
   "cell_type": "code",
   "execution_count": 108,
   "id": "22494f8d",
   "metadata": {},
   "outputs": [
    {
     "data": {
      "text/html": [
       "<div>\n",
       "<style scoped>\n",
       "    .dataframe tbody tr th:only-of-type {\n",
       "        vertical-align: middle;\n",
       "    }\n",
       "\n",
       "    .dataframe tbody tr th {\n",
       "        vertical-align: top;\n",
       "    }\n",
       "\n",
       "    .dataframe thead th {\n",
       "        text-align: right;\n",
       "    }\n",
       "</style>\n",
       "<table border=\"1\" class=\"dataframe\">\n",
       "  <thead>\n",
       "    <tr style=\"text-align: right;\">\n",
       "      <th></th>\n",
       "      <th>Almond butter</th>\n",
       "      <th>Peanut butter</th>\n",
       "      <th>Cashew butter</th>\n",
       "    </tr>\n",
       "  </thead>\n",
       "  <tbody>\n",
       "    <tr>\n",
       "      <th>Mon</th>\n",
       "      <td>12</td>\n",
       "      <td>15</td>\n",
       "      <td>0</td>\n",
       "    </tr>\n",
       "    <tr>\n",
       "      <th>Tues</th>\n",
       "      <td>3</td>\n",
       "      <td>3</td>\n",
       "      <td>7</td>\n",
       "    </tr>\n",
       "    <tr>\n",
       "      <th>Wed</th>\n",
       "      <td>9</td>\n",
       "      <td>19</td>\n",
       "      <td>18</td>\n",
       "    </tr>\n",
       "    <tr>\n",
       "      <th>Thurs</th>\n",
       "      <td>4</td>\n",
       "      <td>6</td>\n",
       "      <td>12</td>\n",
       "    </tr>\n",
       "    <tr>\n",
       "      <th>Fri</th>\n",
       "      <td>1</td>\n",
       "      <td>6</td>\n",
       "      <td>7</td>\n",
       "    </tr>\n",
       "  </tbody>\n",
       "</table>\n",
       "</div>"
      ],
      "text/plain": [
       "       Almond butter  Peanut butter  Cashew butter\n",
       "Mon               12             15              0\n",
       "Tues               3              3              7\n",
       "Wed                9             19             18\n",
       "Thurs              4              6             12\n",
       "Fri                1              6              7"
      ]
     },
     "execution_count": 108,
     "metadata": {},
     "output_type": "execute_result"
    }
   ],
   "source": [
    "weekly_sales = pd.DataFrame(sales_amounts,\n",
    "                            index=[\"Mon\", \"Tues\", \"Wed\", \"Thurs\", \"Fri\"],\n",
    "                            columns=[\"Almond butter\", \"Peanut butter\", \"Cashew butter\"])\n",
    "weekly_sales"
   ]
  },
  {
   "cell_type": "code",
   "execution_count": 109,
   "id": "79a5c153",
   "metadata": {},
   "outputs": [
    {
     "data": {
      "text/plain": [
       "array([10,  8, 12])"
      ]
     },
     "execution_count": 109,
     "metadata": {},
     "output_type": "execute_result"
    }
   ],
   "source": [
    "prices = np.array([10, 8, 12])\n",
    "prices"
   ]
  },
  {
   "cell_type": "code",
   "execution_count": 110,
   "id": "820f7f92",
   "metadata": {},
   "outputs": [
    {
     "data": {
      "text/plain": [
       "(1, 3)"
      ]
     },
     "execution_count": 110,
     "metadata": {},
     "output_type": "execute_result"
    }
   ],
   "source": [
    "butter_prices = pd.DataFrame(prices.reshape(1, 3),\n",
    "                             index=[\"Price\"],\n",
    "                             columns=[\"Almond butter\", \"Peanut butter\", \"Cashew butter\"])\n",
    "butter_prices.shape"
   ]
  },
  {
   "cell_type": "code",
   "execution_count": 111,
   "id": "77d550ec",
   "metadata": {},
   "outputs": [
    {
     "data": {
      "text/plain": [
       "(5, 3)"
      ]
     },
     "execution_count": 111,
     "metadata": {},
     "output_type": "execute_result"
    }
   ],
   "source": [
    "weekly_sales.shape"
   ]
  },
  {
   "cell_type": "code",
   "execution_count": 112,
   "id": "37474ecf",
   "metadata": {},
   "outputs": [
    {
     "ename": "ValueError",
     "evalue": "shapes (3,) and (5,3) not aligned: 3 (dim 0) != 5 (dim 0)",
     "output_type": "error",
     "traceback": [
      "\u001b[1;31m---------------------------------------------------------------------------\u001b[0m",
      "\u001b[1;31mValueError\u001b[0m                                Traceback (most recent call last)",
      "Cell \u001b[1;32mIn[112], line 2\u001b[0m\n\u001b[0;32m      1\u001b[0m \u001b[38;5;66;03m# Find the total amount of sales for a whole day\u001b[39;00m\n\u001b[1;32m----> 2\u001b[0m total_sales \u001b[38;5;241m=\u001b[39m prices\u001b[38;5;241m.\u001b[39mdot(sales_amounts)\n\u001b[0;32m      3\u001b[0m total_sales\n",
      "\u001b[1;31mValueError\u001b[0m: shapes (3,) and (5,3) not aligned: 3 (dim 0) != 5 (dim 0)"
     ]
    }
   ],
   "source": [
    "# Find the total amount of sales for a whole day\n",
    "total_sales = prices.dot(sales_amounts)\n",
    "total_sales"
   ]
  },
  {
   "cell_type": "markdown",
   "id": "4c16095b",
   "metadata": {},
   "source": [
    "\n",
    "The shapes aren't aligned, we need the middle two numbers to be the same."
   ]
  },
  {
   "cell_type": "code",
   "execution_count": 113,
   "id": "a062c088",
   "metadata": {},
   "outputs": [
    {
     "data": {
      "text/plain": [
       "array([10,  8, 12])"
      ]
     },
     "execution_count": 113,
     "metadata": {},
     "output_type": "execute_result"
    }
   ],
   "source": [
    "prices"
   ]
  },
  {
   "cell_type": "code",
   "execution_count": 114,
   "id": "84ebbf10",
   "metadata": {},
   "outputs": [
    {
     "data": {
      "text/plain": [
       "(3, 5)"
      ]
     },
     "execution_count": 114,
     "metadata": {},
     "output_type": "execute_result"
    }
   ],
   "source": [
    "sales_amounts.T.shape"
   ]
  },
  {
   "cell_type": "code",
   "execution_count": 115,
   "id": "9612eeb6",
   "metadata": {},
   "outputs": [
    {
     "data": {
      "text/plain": [
       "array([240, 138, 458, 232, 142])"
      ]
     },
     "execution_count": 115,
     "metadata": {},
     "output_type": "execute_result"
    }
   ],
   "source": [
    "# To make the middle numbers the same, we can transpose\n",
    "total_sales = prices.dot(sales_amounts.T)\n",
    "total_sales"
   ]
  },
  {
   "cell_type": "code",
   "execution_count": 116,
   "id": "a33580ab",
   "metadata": {},
   "outputs": [
    {
     "data": {
      "text/plain": [
       "((1, 3), (5, 3))"
      ]
     },
     "execution_count": 116,
     "metadata": {},
     "output_type": "execute_result"
    }
   ],
   "source": [
    "butter_prices.shape, weekly_sales.shape"
   ]
  },
  {
   "cell_type": "code",
   "execution_count": 117,
   "id": "845c1bde",
   "metadata": {},
   "outputs": [
    {
     "data": {
      "text/html": [
       "<div>\n",
       "<style scoped>\n",
       "    .dataframe tbody tr th:only-of-type {\n",
       "        vertical-align: middle;\n",
       "    }\n",
       "\n",
       "    .dataframe tbody tr th {\n",
       "        vertical-align: top;\n",
       "    }\n",
       "\n",
       "    .dataframe thead th {\n",
       "        text-align: right;\n",
       "    }\n",
       "</style>\n",
       "<table border=\"1\" class=\"dataframe\">\n",
       "  <thead>\n",
       "    <tr style=\"text-align: right;\">\n",
       "      <th></th>\n",
       "      <th>Mon</th>\n",
       "      <th>Tues</th>\n",
       "      <th>Wed</th>\n",
       "      <th>Thurs</th>\n",
       "      <th>Fri</th>\n",
       "    </tr>\n",
       "  </thead>\n",
       "  <tbody>\n",
       "    <tr>\n",
       "      <th>Price</th>\n",
       "      <td>240</td>\n",
       "      <td>138</td>\n",
       "      <td>458</td>\n",
       "      <td>232</td>\n",
       "      <td>142</td>\n",
       "    </tr>\n",
       "  </tbody>\n",
       "</table>\n",
       "</div>"
      ],
      "text/plain": [
       "       Mon  Tues  Wed  Thurs  Fri\n",
       "Price  240   138  458    232  142"
      ]
     },
     "execution_count": 117,
     "metadata": {},
     "output_type": "execute_result"
    }
   ],
   "source": [
    "daily_sales = butter_prices.dot(weekly_sales.T)\n",
    "daily_sales"
   ]
  },
  {
   "cell_type": "code",
   "execution_count": 118,
   "id": "f0c2e87e",
   "metadata": {},
   "outputs": [
    {
     "data": {
      "text/html": [
       "<div>\n",
       "<style scoped>\n",
       "    .dataframe tbody tr th:only-of-type {\n",
       "        vertical-align: middle;\n",
       "    }\n",
       "\n",
       "    .dataframe tbody tr th {\n",
       "        vertical-align: top;\n",
       "    }\n",
       "\n",
       "    .dataframe thead th {\n",
       "        text-align: right;\n",
       "    }\n",
       "</style>\n",
       "<table border=\"1\" class=\"dataframe\">\n",
       "  <thead>\n",
       "    <tr style=\"text-align: right;\">\n",
       "      <th></th>\n",
       "      <th>Almond butter</th>\n",
       "      <th>Peanut butter</th>\n",
       "      <th>Cashew butter</th>\n",
       "      <th>Total</th>\n",
       "    </tr>\n",
       "  </thead>\n",
       "  <tbody>\n",
       "    <tr>\n",
       "      <th>Mon</th>\n",
       "      <td>12</td>\n",
       "      <td>15</td>\n",
       "      <td>0</td>\n",
       "      <td>240</td>\n",
       "    </tr>\n",
       "    <tr>\n",
       "      <th>Tues</th>\n",
       "      <td>3</td>\n",
       "      <td>3</td>\n",
       "      <td>7</td>\n",
       "      <td>138</td>\n",
       "    </tr>\n",
       "    <tr>\n",
       "      <th>Wed</th>\n",
       "      <td>9</td>\n",
       "      <td>19</td>\n",
       "      <td>18</td>\n",
       "      <td>458</td>\n",
       "    </tr>\n",
       "    <tr>\n",
       "      <th>Thurs</th>\n",
       "      <td>4</td>\n",
       "      <td>6</td>\n",
       "      <td>12</td>\n",
       "      <td>232</td>\n",
       "    </tr>\n",
       "    <tr>\n",
       "      <th>Fri</th>\n",
       "      <td>1</td>\n",
       "      <td>6</td>\n",
       "      <td>7</td>\n",
       "      <td>142</td>\n",
       "    </tr>\n",
       "  </tbody>\n",
       "</table>\n",
       "</div>"
      ],
      "text/plain": [
       "       Almond butter  Peanut butter  Cashew butter  Total\n",
       "Mon               12             15              0    240\n",
       "Tues               3              3              7    138\n",
       "Wed                9             19             18    458\n",
       "Thurs              4              6             12    232\n",
       "Fri                1              6              7    142"
      ]
     },
     "execution_count": 118,
     "metadata": {},
     "output_type": "execute_result"
    }
   ],
   "source": [
    "# Need to transpose again\n",
    "weekly_sales[\"Total\"] = daily_sales.T\n",
    "weekly_sales"
   ]
  },
  {
   "cell_type": "code",
   "execution_count": null,
   "id": "443aee04",
=======
  },
  {
   "cell_type": "code",
   "execution_count": 21,
   "id": "4192804d",
>>>>>>> 84b3f39fca46bf2824eb987c56cd9836980d2ada
   "metadata": {},
   "outputs": [
    {
     "data": {
      "text/plain": [
       "array([0, 1, 2, 3, 4, 5])"
      ]
     },
     "execution_count": 21,
     "metadata": {},
     "output_type": "execute_result"
    }
   ],
   "source": [
    "np.unique(randomArray)"
   ]
  },
  {
   "cell_type": "code",
   "execution_count": 22,
   "id": "951ff2bb",
   "metadata": {},
   "outputs": [
    {
     "data": {
      "text/plain": [
       "array([1, 2, 3])"
      ]
     },
     "execution_count": 22,
     "metadata": {},
     "output_type": "execute_result"
    }
   ],
   "source": [
    "array1"
   ]
  },
  {
   "cell_type": "code",
   "execution_count": 23,
   "id": "57fe63a3",
   "metadata": {},
   "outputs": [
    {
     "data": {
      "text/plain": [
       "array([[1, 2, 3, 4],\n",
       "       [2, 3, 4, 5]])"
      ]
     },
     "execution_count": 23,
     "metadata": {},
     "output_type": "execute_result"
    }
   ],
   "source": [
    "array2"
   ]
  },
  {
   "cell_type": "code",
   "execution_count": 25,
   "id": "1acd9206",
   "metadata": {},
   "outputs": [],
   "source": [
    "array3 = np.array([[1,5,6,7,],\n",
    "                 [5,7,2,5],\n",
    "                 [5,5,26,8]])"
   ]
  },
  {
   "cell_type": "code",
   "execution_count": 26,
   "id": "8275c117",
   "metadata": {},
   "outputs": [
    {
     "data": {
      "text/plain": [
       "array([[ 1,  5,  6,  7],\n",
       "       [ 5,  7,  2,  5],\n",
       "       [ 5,  5, 26,  8]])"
      ]
     },
     "execution_count": 26,
     "metadata": {},
     "output_type": "execute_result"
    }
   ],
   "source": [
    "array3"
   ]
  },
  {
   "cell_type": "code",
   "execution_count": 27,
   "id": "deb91336",
   "metadata": {},
   "outputs": [
    {
     "data": {
      "text/plain": [
       "1"
      ]
     },
     "execution_count": 27,
     "metadata": {},
     "output_type": "execute_result"
    }
   ],
   "source": [
    "array1[0]"
   ]
  },
  {
   "cell_type": "code",
   "execution_count": 28,
   "id": "26015d60",
   "metadata": {},
   "outputs": [
    {
     "data": {
      "text/plain": [
       "(2, 4)"
      ]
     },
     "execution_count": 28,
     "metadata": {},
     "output_type": "execute_result"
    }
   ],
   "source": [
    "array2.shape\n"
   ]
  },
  {
   "cell_type": "code",
   "execution_count": 29,
   "id": "3d3cb873",
   "metadata": {},
   "outputs": [
    {
     "data": {
      "text/plain": [
       "(3, 4)"
      ]
     },
     "execution_count": 29,
     "metadata": {},
     "output_type": "execute_result"
    }
   ],
   "source": [
    "array3.shape"
   ]
  },
  {
   "cell_type": "markdown",
   "id": "47e05892",
   "metadata": {},
   "source": [
    "# Manipulating and Comparing Arrays"
   ]
  },
  {
   "cell_type": "markdown",
   "id": "8dd49ac2",
   "metadata": {},
   "source": [
    "## Arithmetic "
   ]
  },
  {
   "cell_type": "code",
   "execution_count": 30,
   "id": "2dcf3bfc",
   "metadata": {},
   "outputs": [
    {
     "data": {
      "text/plain": [
       "array([1, 2, 3])"
      ]
     },
     "execution_count": 30,
     "metadata": {},
     "output_type": "execute_result"
    }
   ],
   "source": [
    "array1"
   ]
  },
  {
   "cell_type": "code",
   "execution_count": 31,
   "id": "a755fa0e",
   "metadata": {},
   "outputs": [
    {
     "data": {
      "text/plain": [
       "array([[1, 2, 3, 4],\n",
       "       [2, 3, 4, 5]])"
      ]
     },
     "execution_count": 31,
     "metadata": {},
     "output_type": "execute_result"
    }
   ],
   "source": [
    "array2"
   ]
  },
  {
   "cell_type": "code",
   "execution_count": 32,
   "id": "3c5fed72",
   "metadata": {},
   "outputs": [
    {
     "data": {
      "text/plain": [
       "array([[ 1,  5,  6,  7],\n",
       "       [ 5,  7,  2,  5],\n",
       "       [ 5,  5, 26,  8]])"
      ]
     },
     "execution_count": 32,
     "metadata": {},
     "output_type": "execute_result"
    }
   ],
   "source": [
    "array3"
   ]
  },
  {
   "cell_type": "code",
   "execution_count": 33,
   "id": "e72181bb",
   "metadata": {},
   "outputs": [],
   "source": [
    "array4 = np.ones(3)"
   ]
  },
  {
   "cell_type": "code",
   "execution_count": 34,
   "id": "5eeb1c16",
   "metadata": {},
   "outputs": [
    {
     "data": {
      "text/plain": [
       "array([1., 1., 1.])"
      ]
     },
     "execution_count": 34,
     "metadata": {},
     "output_type": "execute_result"
    }
   ],
   "source": [
    "array4"
   ]
  },
  {
   "cell_type": "code",
   "execution_count": 35,
   "id": "d10da4ba",
   "metadata": {},
   "outputs": [],
   "source": [
    "sumOfTwo = array1 + array4"
   ]
  },
  {
   "cell_type": "code",
   "execution_count": 36,
   "id": "3a2e4dcd",
   "metadata": {},
   "outputs": [
    {
     "data": {
      "text/plain": [
       "array([2., 3., 4.])"
      ]
     },
     "execution_count": 36,
     "metadata": {},
     "output_type": "execute_result"
    }
   ],
   "source": [
    "sumOfTwo"
   ]
  },
  {
   "cell_type": "code",
   "execution_count": 40,
   "id": "cddb8465",
   "metadata": {},
   "outputs": [],
   "source": [
    "subsOfTwo = array1 - array4"
   ]
  },
  {
   "cell_type": "code",
   "execution_count": 41,
   "id": "14b87db6",
   "metadata": {},
   "outputs": [
    {
     "data": {
      "text/plain": [
       "array([0., 1., 2.])"
      ]
     },
     "execution_count": 41,
     "metadata": {},
     "output_type": "execute_result"
    }
   ],
   "source": [
    "subsOfTwo"
   ]
  },
  {
   "cell_type": "code",
   "execution_count": 42,
   "id": "e3e8d271",
   "metadata": {},
   "outputs": [],
   "source": [
    "multiplicationOfTwo = array1 * array4"
   ]
  },
  {
   "cell_type": "code",
   "execution_count": 43,
   "id": "c9ad4feb",
   "metadata": {},
   "outputs": [
    {
     "data": {
      "text/plain": [
       "array([1., 2., 3.])"
      ]
     },
     "execution_count": 43,
     "metadata": {},
     "output_type": "execute_result"
    }
   ],
   "source": [
    "multiplicationOfTwo"
   ]
  },
  {
   "cell_type": "code",
   "execution_count": 45,
   "id": "20b412f8",
   "metadata": {},
   "outputs": [
    {
     "data": {
      "text/plain": [
       "array([[1, 2, 3, 4],\n",
       "       [2, 3, 4, 5]])"
      ]
     },
     "execution_count": 45,
     "metadata": {},
     "output_type": "execute_result"
    }
   ],
   "source": [
    "array2"
   ]
  },
  {
   "cell_type": "code",
   "execution_count": 46,
   "id": "5cd64ee0",
   "metadata": {},
   "outputs": [
    {
     "ename": "ValueError",
     "evalue": "operands could not be broadcast together with shapes (3,) (2,4) ",
     "output_type": "error",
     "traceback": [
      "\u001b[0;31m---------------------------------------------------------------------------\u001b[0m",
      "\u001b[0;31mValueError\u001b[0m                                Traceback (most recent call last)",
      "\u001b[0;32m/var/folders/gb/gdcy7k7x4x773xs3bf8dk__80000gn/T/ipykernel_12275/2412274726.py\u001b[0m in \u001b[0;36m<module>\u001b[0;34m\u001b[0m\n\u001b[0;32m----> 1\u001b[0;31m \u001b[0mmultiplication2\u001b[0m \u001b[0;34m=\u001b[0m \u001b[0marray1\u001b[0m \u001b[0;34m*\u001b[0m \u001b[0marray2\u001b[0m\u001b[0;34m\u001b[0m\u001b[0;34m\u001b[0m\u001b[0m\n\u001b[0m",
      "\u001b[0;31mValueError\u001b[0m: operands could not be broadcast together with shapes (3,) (2,4) "
     ]
    }
   ],
   "source": [
    "multiplication2 = array1 * array2 #this will not work since the columns of two arrays / matrices does not match"
   ]
  },
  {
   "cell_type": "markdown",
   "id": "b4012ab5",
   "metadata": {},
   "source": [
    "Broadcasting in Numpy describes how numpy treats arrays while performing arithmatic operations\n",
    "\n",
    "https://numpy.org/doc/stable/user/basics.broadcasting.html"
   ]
  },
  {
   "cell_type": "code",
   "execution_count": 47,
   "id": "fdaf3a23",
   "metadata": {},
   "outputs": [],
   "source": [
    "array5 = np.array([[2,3,4],\n",
    "                  [4,5,6]])"
   ]
  },
  {
   "cell_type": "code",
   "execution_count": 48,
   "id": "6fa5b4fa",
   "metadata": {},
   "outputs": [
    {
     "data": {
      "text/plain": [
       "array([[2, 3, 4],\n",
       "       [4, 5, 6]])"
      ]
     },
     "execution_count": 48,
     "metadata": {},
     "output_type": "execute_result"
    }
   ],
   "source": [
    "array5"
   ]
  },
  {
   "cell_type": "code",
   "execution_count": 49,
   "id": "18901919",
   "metadata": {},
   "outputs": [],
   "source": [
    "multiplication3 = array1 * array5"
   ]
  },
  {
   "cell_type": "code",
   "execution_count": 50,
   "id": "b8291497",
   "metadata": {},
   "outputs": [
    {
     "data": {
      "text/plain": [
       "array([[ 2,  6, 12],\n",
       "       [ 4, 10, 18]])"
      ]
     },
     "execution_count": 50,
     "metadata": {},
     "output_type": "execute_result"
    }
   ],
   "source": [
    "multiplication3"
   ]
  },
  {
   "cell_type": "markdown",
   "id": "1c3704cf",
   "metadata": {},
   "source": [
    "# Division and Floor Division"
   ]
  },
  {
   "cell_type": "code",
   "execution_count": 51,
   "id": "75bc863d",
   "metadata": {},
   "outputs": [],
   "source": [
    "# division\n",
    "\n",
    "division = array1/array4"
   ]
  },
  {
   "cell_type": "code",
   "execution_count": 52,
   "id": "bc99692e",
   "metadata": {},
   "outputs": [
    {
     "data": {
      "text/plain": [
       "array([1., 2., 3.])"
      ]
     },
     "execution_count": 52,
     "metadata": {},
     "output_type": "execute_result"
    }
   ],
   "source": [
    "division"
   ]
  },
  {
   "cell_type": "code",
   "execution_count": 53,
   "id": "f6620837",
   "metadata": {},
   "outputs": [],
   "source": [
    "#floor division\n",
    "\n",
    "floorDivison = array1 // array4 "
   ]
  },
  {
   "cell_type": "code",
   "execution_count": 54,
   "id": "b68cf0c3",
   "metadata": {},
   "outputs": [
    {
     "data": {
      "text/plain": [
       "array([1., 2., 3.])"
      ]
     },
     "execution_count": 54,
     "metadata": {},
     "output_type": "execute_result"
    }
   ],
   "source": [
    "floorDivison #removes the decimal, it rounds up"
   ]
  },
  {
   "cell_type": "code",
   "execution_count": 55,
   "id": "46708180",
   "metadata": {},
   "outputs": [],
   "source": [
    "x= 5\n",
    "y =2\n"
   ]
  },
  {
   "cell_type": "code",
   "execution_count": 59,
   "id": "dad8d18d",
   "metadata": {},
   "outputs": [],
   "source": [
    "floorDiv1 = x/y"
   ]
  },
  {
   "cell_type": "code",
   "execution_count": 60,
   "id": "8087d8bf",
   "metadata": {},
   "outputs": [
    {
     "data": {
      "text/plain": [
       "2.0"
      ]
     },
     "execution_count": 60,
     "metadata": {},
     "output_type": "execute_result"
    }
   ],
   "source": [
    "floorDiv1"
   ]
  },
  {
   "cell_type": "code",
   "execution_count": 61,
   "id": "71630dde",
   "metadata": {},
   "outputs": [],
   "source": [
    "# power\n",
    "\n",
    "powerOfArray = array1 *array4"
   ]
  },
  {
   "cell_type": "code",
   "execution_count": 62,
   "id": "96965bfd",
   "metadata": {},
   "outputs": [
    {
     "data": {
      "text/plain": [
       "array([1., 2., 3.])"
      ]
     },
     "execution_count": 62,
     "metadata": {},
     "output_type": "execute_result"
    }
   ],
   "source": [
    "powerOfArray"
   ]
  },
  {
   "cell_type": "markdown",
   "id": "fea5b305",
   "metadata": {},
   "source": [
    "Numpy has this arithmtic operations as functions \n",
    "\n",
    "Like for example\n",
    "\n",
    "the square of the arrays we can use as \n",
    "\n"
   ]
  },
  {
   "cell_type": "code",
   "execution_count": 63,
   "id": "425e1b6f",
   "metadata": {},
   "outputs": [
    {
     "data": {
      "text/plain": [
       "array([1., 4., 9.])"
      ]
     },
     "execution_count": 63,
     "metadata": {},
     "output_type": "execute_result"
    }
   ],
   "source": [
    "np.square(array1 , array4) # this exactly does the same thing as {array1 * array4}"
   ]
  },
  {
   "cell_type": "markdown",
   "id": "8d4e6927",
   "metadata": {},
   "source": [
    "# Standard Deviation\n",
    "\n",
    "https://www.mathsisfun.com/data/standard-deviation.html"
   ]
  },
  {
   "cell_type": "markdown",
   "id": "b7a7434c",
   "metadata": {},
   "source": [
    "# Aggregation\n"
   ]
  },
  {
   "cell_type": "markdown",
   "id": "e9fdcc79",
   "metadata": {},
   "source": [
    "Performing the same operations on number of things"
   ]
  },
  {
   "cell_type": "markdown",
   "id": "d4116729",
   "metadata": {},
   "source": [
    "numpy has their own function of doing things, it has functions like sum , square etc etc, "
   ]
  },
  {
   "cell_type": "markdown",
   "id": "12f38425",
   "metadata": {},
   "source": [
    "but where to use this is the factor "
   ]
  },
  {
   "cell_type": "markdown",
   "id": "3347a12e",
   "metadata": {},
   "source": [
    "Use Numpy function dealing with numpy arrays and use python functions for python datatypes"
   ]
  },
  {
   "cell_type": "code",
   "execution_count": 68,
   "id": "2f347111",
   "metadata": {},
   "outputs": [],
   "source": [
    " #creating an massive array\n",
    "    \n",
    "massiveArray = np.random.random(100000)"
   ]
  },
  {
   "cell_type": "code",
   "execution_count": 71,
   "id": "8c238980",
   "metadata": {},
   "outputs": [
    {
     "data": {
      "text/plain": [
       "array([0.0202184 , 0.83261985, 0.77815675, 0.87001215, 0.97861834,\n",
       "       0.79915856, 0.46147936, 0.78052918, 0.11827443, 0.63992102,\n",
       "       0.14335329, 0.94466892, 0.52184832, 0.41466194, 0.26455561,\n",
       "       0.77423369, 0.45615033, 0.56843395, 0.0187898 , 0.6176355 ,\n",
       "       0.61209572, 0.616934  , 0.94374808, 0.6818203 , 0.3595079 ,\n",
       "       0.43703195, 0.6976312 , 0.06022547, 0.66676672, 0.67063787,\n",
       "       0.21038256, 0.1289263 , 0.31542835, 0.36371077, 0.57019677,\n",
       "       0.43860151, 0.98837384, 0.10204481, 0.20887676, 0.16130952,\n",
       "       0.65310833, 0.2532916 , 0.46631077, 0.24442559, 0.15896958,\n",
       "       0.11037514, 0.65632959, 0.13818295, 0.19658236, 0.36872517,\n",
       "       0.82099323, 0.09710128, 0.83794491, 0.09609841, 0.97645947,\n",
       "       0.4686512 , 0.97676109, 0.60484552, 0.73926358, 0.03918779,\n",
       "       0.28280696, 0.12019656, 0.2961402 , 0.11872772, 0.31798318,\n",
       "       0.41426299, 0.0641475 , 0.69247212, 0.56660145, 0.26538949,\n",
       "       0.52324805, 0.09394051, 0.5759465 , 0.9292962 , 0.31856895,\n",
       "       0.66741038, 0.13179786, 0.7163272 , 0.28940609, 0.18319136,\n",
       "       0.58651293, 0.02010755, 0.82894003, 0.00469548, 0.67781654,\n",
       "       0.27000797, 0.73519402, 0.96218855, 0.24875314, 0.57615733,\n",
       "       0.59204193, 0.57225191, 0.22308163, 0.95274901, 0.44712538,\n",
       "       0.84640867, 0.69947928, 0.29743695, 0.81379782, 0.39650574])"
      ]
     },
     "execution_count": 71,
     "metadata": {},
     "output_type": "execute_result"
    }
   ],
   "source": [
    "massiveArray[:100]"
   ]
  },
  {
   "cell_type": "code",
   "execution_count": 72,
   "id": "2c2d72c5",
   "metadata": {
    "scrolled": true
   },
   "outputs": [
    {
     "data": {
      "text/plain": [
       "array([0.0202184 , 0.83261985, 0.77815675, 0.87001215, 0.97861834,\n",
       "       0.79915856, 0.46147936, 0.78052918, 0.11827443, 0.63992102])"
      ]
     },
     "execution_count": 72,
     "metadata": {},
     "output_type": "execute_result"
    }
   ],
   "source": [
    "massiveArray[:10]"
   ]
  },
  {
   "cell_type": "markdown",
   "id": "28a8aaae",
   "metadata": {},
   "source": [
    "\n",
    "## The %timeit magic command is used in IPython environments (like Jupyter notebooks or IPython interactive shells) to measure the execution time of a Python statement or expression. It provides a convenient way to quickly assess the performance of code snippets."
   ]
  },
  {
   "cell_type": "code",
   "execution_count": 73,
   "id": "4c99bf47",
   "metadata": {},
   "outputs": [
    {
     "name": "stdout",
     "output_type": "stream",
     "text": [
      "6.41 ms ± 101 µs per loop (mean ± std. dev. of 7 runs, 100 loops each)\n",
      "20.5 µs ± 404 ns per loop (mean ± std. dev. of 7 runs, 10000 loops each)\n"
     ]
    }
   ],
   "source": [
    "%timeit sum(massiveArray) #python sum function\n",
    "%timeit np.sum(massiveArray) #numpy sum functions"
   ]
  },
  {
   "cell_type": "markdown",
   "id": "920f60ec",
   "metadata": {},
   "source": [
    "numpy functions takes less time than the python default functions\n",
    "\n",
    "beacuse numpy is optimised to do more mathematical calulations on a faster rate"
   ]
  },
  {
   "cell_type": "code",
   "execution_count": 75,
   "id": "bad89205",
   "metadata": {},
   "outputs": [],
   "source": [
    "meanOfArray = np.mean(array1)"
   ]
  },
  {
   "cell_type": "code",
   "execution_count": 76,
   "id": "27f86177",
   "metadata": {},
   "outputs": [
    {
     "data": {
      "text/plain": [
       "2.0"
      ]
     },
     "execution_count": 76,
     "metadata": {},
     "output_type": "execute_result"
    }
   ],
   "source": [
    "meanOfArray"
   ]
  },
  {
   "cell_type": "code",
   "execution_count": 79,
   "id": "f7aa319c",
   "metadata": {},
   "outputs": [
    {
     "data": {
      "text/plain": [
       "array([[2, 3, 4],\n",
       "       [4, 5, 6]])"
      ]
     },
     "execution_count": 79,
     "metadata": {},
     "output_type": "execute_result"
    }
   ],
   "source": [
    "array5"
   ]
  },
  {
   "cell_type": "code",
   "execution_count": 77,
   "id": "7dfd31cf",
   "metadata": {},
   "outputs": [],
   "source": [
    "meanOfArray5 = np.mean(array5)"
   ]
  },
  {
   "cell_type": "code",
   "execution_count": 78,
   "id": "64e4a3f8",
   "metadata": {},
   "outputs": [
    {
     "data": {
      "text/plain": [
       "4.0"
      ]
     },
     "execution_count": 78,
     "metadata": {},
     "output_type": "execute_result"
    }
   ],
   "source": [
    "meanOfArray5"
   ]
  },
  {
   "cell_type": "code",
   "execution_count": 81,
   "id": "5821a619",
   "metadata": {},
   "outputs": [
    {
     "data": {
      "text/plain": [
       "1.0"
      ]
     },
     "execution_count": 81,
     "metadata": {},
     "output_type": "execute_result"
    }
   ],
   "source": [
    "maxOfArray = np.max(array4)\n",
    "maxOfArray"
   ]
  },
  {
   "cell_type": "code",
   "execution_count": 83,
   "id": "1b01434b",
   "metadata": {},
   "outputs": [
    {
     "data": {
      "text/plain": [
       "2"
      ]
     },
     "execution_count": 83,
     "metadata": {},
     "output_type": "execute_result"
    }
   ],
   "source": [
    "minOfArray = np.min(array5)\n",
    "minOfArray"
   ]
  },
  {
   "cell_type": "code",
   "execution_count": 85,
   "id": "d51dac6b",
   "metadata": {},
   "outputs": [
    {
     "data": {
      "text/plain": [
       "3.2998316455372216"
      ]
     },
     "execution_count": 85,
     "metadata": {},
     "output_type": "execute_result"
    }
   ],
   "source": [
    "standardDeviationOfArray = np.std(array4) #standard deviation\n",
    "standardDeviationOfArray"
   ]
  },
  {
   "cell_type": "code",
   "execution_count": 91,
   "id": "b85dab93",
   "metadata": {},
   "outputs": [
    {
     "data": {
      "text/plain": [
       "3.2998316455372216"
      ]
     },
     "execution_count": 91,
     "metadata": {},
     "output_type": "execute_result"
    }
   ],
   "source": [
    "#standard deviaiton = squareroot of the variance\n",
    "\n",
    "basicFormulaOfStd = np.sqrt(np.var(array4))\n",
    "basicFormulaOfStd\n"
   ]
  },
  {
   "cell_type": "code",
   "execution_count": 89,
   "id": "370f5fbd",
   "metadata": {},
   "outputs": [
    {
     "data": {
      "text/plain": [
       "1.6666666666666667"
      ]
     },
     "execution_count": 89,
     "metadata": {},
     "output_type": "execute_result"
    }
   ],
   "source": [
    "varianceOfArray = np.var(array5) #variance\n",
    "varianceOfArray"
   ]
  },
  {
   "cell_type": "code",
   "execution_count": 92,
   "id": "ac88ae8a",
   "metadata": {},
   "outputs": [],
   "source": [
    "highVarValue = np.array([100,200,400,1000,2000,6000])\n",
    "lowVarValue = np.array([10,20,40,60,70])"
   ]
  },
  {
   "cell_type": "code",
   "execution_count": 93,
   "id": "6eb13ca6",
   "metadata": {},
   "outputs": [
    {
     "data": {
      "text/plain": [
       "4254722.222222222"
      ]
     },
     "execution_count": 93,
     "metadata": {},
     "output_type": "execute_result"
    }
   ],
   "source": [
    "np.var(highVarValue)"
   ]
  },
  {
   "cell_type": "code",
   "execution_count": 94,
   "id": "c5984462",
   "metadata": {},
   "outputs": [
    {
     "data": {
      "text/plain": [
       "520.0"
      ]
     },
     "execution_count": 94,
     "metadata": {},
     "output_type": "execute_result"
    }
   ],
   "source": [
    "np.var(lowVarValue)"
   ]
  },
  {
   "cell_type": "code",
   "execution_count": 95,
   "id": "7349ad2e",
   "metadata": {},
   "outputs": [
    {
     "data": {
      "text/plain": [
       "22.80350850198276"
      ]
     },
     "execution_count": 95,
     "metadata": {},
     "output_type": "execute_result"
    }
   ],
   "source": [
    "np.std(highVarValue)\n"
   ]
  },
  {
   "cell_type": "code",
   "execution_count": 96,
   "id": "0b4727fb",
   "metadata": {},
   "outputs": [
    {
     "data": {
      "text/plain": [
       "22.80350850198276"
      ]
     },
     "execution_count": 96,
     "metadata": {},
     "output_type": "execute_result"
    }
   ],
   "source": [
    "np.std(lowVarValue)\n"
   ]
  },
  {
   "cell_type": "code",
   "execution_count": 97,
   "id": "ec49b57d",
   "metadata": {},
   "outputs": [],
   "source": [
    "import matplotlib.pyplot as plt\n",
    "%matplotlib inline\n"
   ]
  },
  {
   "cell_type": "code",
   "execution_count": 98,
   "id": "67363013",
   "metadata": {},
   "outputs": [
    {
     "data": {
      "image/png": "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\n",
      "text/plain": [
       "<Figure size 640x480 with 1 Axes>"
      ]
     },
     "metadata": {},
     "output_type": "display_data"
    }
   ],
   "source": [
    "plt.hist(highVarValue)\n",
    "plt.show()"
   ]
  },
  {
   "cell_type": "code",
   "execution_count": 107,
   "id": "632f2990",
   "metadata": {
    "scrolled": true
   },
   "outputs": [
    {
     "data": {
      "image/png": "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\n",
      "text/plain": [
       "<Figure size 640x480 with 1 Axes>"
      ]
     },
     "metadata": {},
     "output_type": "display_data"
    }
   ],
   "source": [
    "plt.hist(lowVarValue)\n",
    "plt.show()"
   ]
  },
  {
   "cell_type": "markdown",
   "id": "9eb13370",
   "metadata": {},
   "source": [
    "# Reshaping an array"
   ]
  },
  {
   "cell_type": "code",
   "execution_count": 104,
   "id": "67330089",
   "metadata": {},
   "outputs": [],
   "source": [
    "array7 = np.array([[1,2,3,],[2,4,5],[5,6,7]])"
   ]
  },
  {
   "cell_type": "code",
   "execution_count": 105,
   "id": "39b392c8",
   "metadata": {},
   "outputs": [
    {
     "data": {
      "text/plain": [
       "array([[1, 2, 3],\n",
       "       [2, 4, 5],\n",
       "       [5, 6, 7]])"
      ]
     },
     "execution_count": 105,
     "metadata": {},
     "output_type": "execute_result"
    }
   ],
   "source": [
    "array7"
   ]
  },
  {
   "cell_type": "code",
   "execution_count": 106,
   "id": "83160882",
   "metadata": {},
   "outputs": [
    {
     "data": {
      "text/plain": [
       "(3, 3)"
      ]
     },
     "execution_count": 106,
     "metadata": {},
     "output_type": "execute_result"
    }
   ],
   "source": [
    "array7.shape"
   ]
  },
  {
   "cell_type": "code",
   "execution_count": 110,
   "id": "874755d7",
   "metadata": {},
   "outputs": [],
   "source": [
    "array8 = array7.reshape(3,3,1)"
   ]
  },
  {
   "cell_type": "code",
   "execution_count": 111,
   "id": "ebe21602",
   "metadata": {},
   "outputs": [
    {
     "data": {
      "text/plain": [
       "array([[[1],\n",
       "        [2],\n",
       "        [3]],\n",
       "\n",
       "       [[2],\n",
       "        [4],\n",
       "        [5]],\n",
       "\n",
       "       [[5],\n",
       "        [6],\n",
       "        [7]]])"
      ]
     },
     "execution_count": 111,
     "metadata": {},
     "output_type": "execute_result"
    }
   ],
   "source": [
    "array8"
   ]
  },
  {
   "cell_type": "markdown",
   "id": "13db1263",
   "metadata": {},
   "source": [
    "# Transpose of a matrix"
   ]
  },
  {
   "cell_type": "code",
   "execution_count": 112,
   "id": "5cb5dfc8",
   "metadata": {},
   "outputs": [
    {
     "data": {
      "text/plain": [
       "array([[1, 2, 5],\n",
       "       [2, 4, 6],\n",
       "       [3, 5, 7]])"
      ]
     },
     "execution_count": 112,
     "metadata": {},
     "output_type": "execute_result"
    }
   ],
   "source": [
    "array7.T #changes rows into column and coulmn into rows // switches the axises"
   ]
  },
  {
   "cell_type": "markdown",
   "id": "f65fc4c3",
   "metadata": {},
   "source": [
    "Check this example,\n",
    "we will declare one array of (2,3) shape"
   ]
  },
  {
   "cell_type": "code",
   "execution_count": 113,
   "id": "1551aed9",
   "metadata": {},
   "outputs": [],
   "source": [
    "arrayForTranspose = np.array([[1,2,4],[2,3,4]])"
   ]
  },
  {
   "cell_type": "code",
   "execution_count": 114,
   "id": "9461e174",
   "metadata": {},
   "outputs": [
    {
     "data": {
      "text/plain": [
       "array([[1, 2, 4],\n",
       "       [2, 3, 4]])"
      ]
     },
     "execution_count": 114,
     "metadata": {},
     "output_type": "execute_result"
    }
   ],
   "source": [
    "arrayForTranspose"
   ]
  },
  {
   "cell_type": "markdown",
   "id": "7dd8b31f",
   "metadata": {},
   "source": [
    "Now look at the below matrix after trasnposing"
   ]
  },
  {
   "cell_type": "code",
   "execution_count": 115,
   "id": "a1d5ec26",
   "metadata": {},
   "outputs": [],
   "source": [
    "arrayAfterTranspose = arrayForTranspose.T"
   ]
  },
  {
   "cell_type": "code",
   "execution_count": 116,
   "id": "c04be9cf",
   "metadata": {},
   "outputs": [
    {
     "data": {
      "text/plain": [
       "array([[1, 2],\n",
       "       [2, 3],\n",
       "       [4, 4]])"
      ]
     },
     "execution_count": 116,
     "metadata": {},
     "output_type": "execute_result"
    }
   ],
   "source": [
    "arrayAfterTranspose"
   ]
  },
  {
   "cell_type": "code",
   "execution_count": null,
<<<<<<< HEAD
   "id": "bbd066ef",
   "metadata": {},
   "outputs": [],
   "source": []
  },
  {
   "cell_type": "code",
   "execution_count": null,
   "id": "6cd101a9",
   "metadata": {},
   "outputs": [],
   "source": []
  },
  {
   "cell_type": "code",
   "execution_count": null,
   "id": "0980ca3c",
   "metadata": {},
   "outputs": [],
   "source": []
  },
  {
   "cell_type": "code",
   "execution_count": null,
   "id": "afce58a7",
   "metadata": {},
   "outputs": [],
   "source": []
  },
  {
   "cell_type": "code",
   "execution_count": null,
   "id": "10c8ecb0",
   "metadata": {},
   "outputs": [],
   "source": []
  },
  {
   "cell_type": "code",
   "execution_count": null,
   "id": "1507cc23",
   "metadata": {},
   "outputs": [],
   "source": []
  },
  {
   "cell_type": "code",
   "execution_count": null,
   "id": "e01c3496",
   "metadata": {},
   "outputs": [],
   "source": []
  },
  {
   "cell_type": "code",
   "execution_count": null,
   "id": "b6db0073",
   "metadata": {},
   "outputs": [],
   "source": []
  },
  {
   "cell_type": "code",
   "execution_count": null,
   "id": "d45d9c98",
   "metadata": {},
   "outputs": [],
   "source": []
  },
  {
   "cell_type": "code",
   "execution_count": null,
   "id": "1823606e",
   "metadata": {},
   "outputs": [],
   "source": []
  },
  {
   "cell_type": "code",
   "execution_count": null,
   "id": "ec2f75b0",
   "metadata": {},
   "outputs": [],
   "source": []
  },
  {
   "cell_type": "code",
   "execution_count": null,
   "id": "c7b95496",
   "metadata": {},
   "outputs": [],
   "source": []
  },
  {
   "cell_type": "code",
   "execution_count": null,
   "id": "b19deb09",
   "metadata": {},
   "outputs": [],
   "source": []
  },
  {
   "cell_type": "code",
   "execution_count": null,
   "id": "29335736",
   "metadata": {},
   "outputs": [],
   "source": []
  },
  {
   "cell_type": "code",
   "execution_count": null,
   "id": "3b98ead5",
   "metadata": {},
   "outputs": [],
   "source": []
  },
  {
   "cell_type": "code",
   "execution_count": null,
   "id": "eb08795f",
=======
   "id": "a51aef3f",
>>>>>>> 84b3f39fca46bf2824eb987c56cd9836980d2ada
   "metadata": {},
   "outputs": [],
   "source": []
  }
 ],
 "metadata": {
  "kernelspec": {
   "display_name": "Python 3 (ipykernel)",
   "language": "python",
   "name": "python3"
  },
  "language_info": {
   "codemirror_mode": {
    "name": "ipython",
    "version": 3
   },
   "file_extension": ".py",
   "mimetype": "text/x-python",
   "name": "python",
   "nbconvert_exporter": "python",
   "pygments_lexer": "ipython3",
   "version": "3.9.13"
  }
 },
 "nbformat": 4,
 "nbformat_minor": 5
}
